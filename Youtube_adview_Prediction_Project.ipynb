{
 "cells": [
  {
   "cell_type": "markdown",
   "id": "2a123d8f",
   "metadata": {},
   "source": [
    "# Project : Youtube adview Prediction"
   ]
  },
  {
   "cell_type": "markdown",
   "id": "f7cd7c07",
   "metadata": {},
   "source": [
    "## Problem Context :\n",
    "    \n",
    "### Youtube advertisers pay content creators based on adviews and clicks for the goods and services being marketed. They want to estimate the adview based on other metrics like comments, likes etc. The problem statement is therefore to train various regression models and choose the best one to predict the number of adviews. The data needs to be refined and cleaned before feeding in the algorithms for better results.\n"
   ]
  },
  {
   "cell_type": "markdown",
   "id": "2288ad83",
   "metadata": {},
   "source": [
    "## Data Description\n",
    "\n",
    "### The file train.csv contains metrics and other details of about 15000 youtube videos. The metrics include number of views, likes, dislikes, comments and apart from that published date, duration and category are also included.The train.csv file also contains the metric number of adviews which is our target variable for prediction.\n"
   ]
  },
  {
   "cell_type": "markdown",
   "id": "54f182e6",
   "metadata": {},
   "source": [
    "## Attribute Information\n",
    "\n",
    "1) 'vidid' : Unique Identification ID for each video\n",
    "\n",
    "2) 'adview' : The number of adviews for each video\n",
    "\n",
    "3) 'views' : The number of unique views for each video\n",
    "\n",
    "4) 'likes' : The number of likes for each video\n",
    "\n",
    "5) 'dislikes' : The number of likes for each video\n",
    "\n",
    "6) 'comment' : The number of unique comments for each video\n",
    "\n",
    "7) 'published' : The data of uploading the video\n",
    "\n",
    "8) 'duration' : The duration of the video (in min. and seconds)\n",
    "\n",
    "9) 'category' : Category niche of each of the video"
   ]
  },
  {
   "cell_type": "markdown",
   "id": "24cf2899",
   "metadata": {},
   "source": [
    "## Objective\n",
    "\n",
    "### To build a machine learning regression to predict youtube adview count based on other youtube metrics."
   ]
  },
  {
   "cell_type": "markdown",
   "id": "273761ff",
   "metadata": {},
   "source": [
    "# Importing Libraries"
   ]
  },
  {
   "cell_type": "code",
   "execution_count": 1,
   "id": "177b7db0",
   "metadata": {},
   "outputs": [],
   "source": [
    "# Importing Required Libraries\n",
    "import numpy as np      # numerical computations\n",
    "import pandas as pd     # data manipulations\n",
    "import matplotlib.pyplot as plt  # Used for visualization\n",
    "%matplotlib inline\n",
    "import seaborn as sns         # Used for visualization\n",
    "from datetime import datetime    # to convert to date\n",
    "from numpy import math          # Used for maths operation\n",
    "from scipy import stats             #used for statistical analysis\n",
    "import warnings\n",
    "warnings.filterwarnings('ignore')"
   ]
  },
  {
   "cell_type": "markdown",
   "id": "048d3dee",
   "metadata": {},
   "source": [
    "# Dataset initialization"
   ]
  },
  {
   "cell_type": "code",
   "execution_count": 2,
   "id": "f3333fac",
   "metadata": {},
   "outputs": [],
   "source": [
    "# Directory path\n",
    "import os\n",
    "os.chdir(r'C:\\Users\\Lenovo\\Downloads\\Internship studio\\Project')"
   ]
  },
  {
   "cell_type": "code",
   "execution_count": 3,
   "id": "701c4520",
   "metadata": {},
   "outputs": [
    {
     "data": {
      "text/html": [
       "<div>\n",
       "<style scoped>\n",
       "    .dataframe tbody tr th:only-of-type {\n",
       "        vertical-align: middle;\n",
       "    }\n",
       "\n",
       "    .dataframe tbody tr th {\n",
       "        vertical-align: top;\n",
       "    }\n",
       "\n",
       "    .dataframe thead th {\n",
       "        text-align: right;\n",
       "    }\n",
       "</style>\n",
       "<table border=\"1\" class=\"dataframe\">\n",
       "  <thead>\n",
       "    <tr style=\"text-align: right;\">\n",
       "      <th></th>\n",
       "      <th>vidid</th>\n",
       "      <th>adview</th>\n",
       "      <th>views</th>\n",
       "      <th>likes</th>\n",
       "      <th>dislikes</th>\n",
       "      <th>comment</th>\n",
       "      <th>published</th>\n",
       "      <th>duration</th>\n",
       "      <th>category</th>\n",
       "    </tr>\n",
       "  </thead>\n",
       "  <tbody>\n",
       "    <tr>\n",
       "      <th>0</th>\n",
       "      <td>VID_18655</td>\n",
       "      <td>40</td>\n",
       "      <td>1031602</td>\n",
       "      <td>8523</td>\n",
       "      <td>363</td>\n",
       "      <td>1095</td>\n",
       "      <td>2016-09-14</td>\n",
       "      <td>PT7M37S</td>\n",
       "      <td>F</td>\n",
       "    </tr>\n",
       "    <tr>\n",
       "      <th>1</th>\n",
       "      <td>VID_14135</td>\n",
       "      <td>2</td>\n",
       "      <td>1707</td>\n",
       "      <td>56</td>\n",
       "      <td>2</td>\n",
       "      <td>6</td>\n",
       "      <td>2016-10-01</td>\n",
       "      <td>PT9M30S</td>\n",
       "      <td>D</td>\n",
       "    </tr>\n",
       "    <tr>\n",
       "      <th>2</th>\n",
       "      <td>VID_2187</td>\n",
       "      <td>1</td>\n",
       "      <td>2023</td>\n",
       "      <td>25</td>\n",
       "      <td>0</td>\n",
       "      <td>2</td>\n",
       "      <td>2016-07-02</td>\n",
       "      <td>PT2M16S</td>\n",
       "      <td>C</td>\n",
       "    </tr>\n",
       "    <tr>\n",
       "      <th>3</th>\n",
       "      <td>VID_23096</td>\n",
       "      <td>6</td>\n",
       "      <td>620860</td>\n",
       "      <td>777</td>\n",
       "      <td>161</td>\n",
       "      <td>153</td>\n",
       "      <td>2016-07-27</td>\n",
       "      <td>PT4M22S</td>\n",
       "      <td>H</td>\n",
       "    </tr>\n",
       "    <tr>\n",
       "      <th>4</th>\n",
       "      <td>VID_10175</td>\n",
       "      <td>1</td>\n",
       "      <td>666</td>\n",
       "      <td>1</td>\n",
       "      <td>0</td>\n",
       "      <td>0</td>\n",
       "      <td>2016-06-29</td>\n",
       "      <td>PT31S</td>\n",
       "      <td>D</td>\n",
       "    </tr>\n",
       "    <tr>\n",
       "      <th>...</th>\n",
       "      <td>...</td>\n",
       "      <td>...</td>\n",
       "      <td>...</td>\n",
       "      <td>...</td>\n",
       "      <td>...</td>\n",
       "      <td>...</td>\n",
       "      <td>...</td>\n",
       "      <td>...</td>\n",
       "      <td>...</td>\n",
       "    </tr>\n",
       "    <tr>\n",
       "      <th>14994</th>\n",
       "      <td>VID_31</td>\n",
       "      <td>2</td>\n",
       "      <td>525949</td>\n",
       "      <td>1137</td>\n",
       "      <td>83</td>\n",
       "      <td>86</td>\n",
       "      <td>2015-05-18</td>\n",
       "      <td>PT6M10S</td>\n",
       "      <td>A</td>\n",
       "    </tr>\n",
       "    <tr>\n",
       "      <th>14995</th>\n",
       "      <td>VID_5861</td>\n",
       "      <td>1</td>\n",
       "      <td>665673</td>\n",
       "      <td>3849</td>\n",
       "      <td>156</td>\n",
       "      <td>569</td>\n",
       "      <td>2015-10-20</td>\n",
       "      <td>PT3M56S</td>\n",
       "      <td>D</td>\n",
       "    </tr>\n",
       "    <tr>\n",
       "      <th>14996</th>\n",
       "      <td>VID_805</td>\n",
       "      <td>4</td>\n",
       "      <td>3479</td>\n",
       "      <td>16</td>\n",
       "      <td>1</td>\n",
       "      <td>1</td>\n",
       "      <td>2013-08-23</td>\n",
       "      <td>PT3M13S</td>\n",
       "      <td>B</td>\n",
       "    </tr>\n",
       "    <tr>\n",
       "      <th>14997</th>\n",
       "      <td>VID_19843</td>\n",
       "      <td>1</td>\n",
       "      <td>963</td>\n",
       "      <td>0</td>\n",
       "      <td>0</td>\n",
       "      <td>0</td>\n",
       "      <td>2010-10-02</td>\n",
       "      <td>PT26S</td>\n",
       "      <td>G</td>\n",
       "    </tr>\n",
       "    <tr>\n",
       "      <th>14998</th>\n",
       "      <td>VID_8534</td>\n",
       "      <td>1</td>\n",
       "      <td>15212</td>\n",
       "      <td>22</td>\n",
       "      <td>5</td>\n",
       "      <td>4</td>\n",
       "      <td>2016-02-19</td>\n",
       "      <td>PT1M1S</td>\n",
       "      <td>D</td>\n",
       "    </tr>\n",
       "  </tbody>\n",
       "</table>\n",
       "<p>14999 rows × 9 columns</p>\n",
       "</div>"
      ],
      "text/plain": [
       "           vidid  adview    views likes dislikes comment   published duration  \\\n",
       "0      VID_18655      40  1031602  8523      363    1095  2016-09-14  PT7M37S   \n",
       "1      VID_14135       2     1707    56        2       6  2016-10-01  PT9M30S   \n",
       "2       VID_2187       1     2023    25        0       2  2016-07-02  PT2M16S   \n",
       "3      VID_23096       6   620860   777      161     153  2016-07-27  PT4M22S   \n",
       "4      VID_10175       1      666     1        0       0  2016-06-29    PT31S   \n",
       "...          ...     ...      ...   ...      ...     ...         ...      ...   \n",
       "14994     VID_31       2   525949  1137       83      86  2015-05-18  PT6M10S   \n",
       "14995   VID_5861       1   665673  3849      156     569  2015-10-20  PT3M56S   \n",
       "14996    VID_805       4     3479    16        1       1  2013-08-23  PT3M13S   \n",
       "14997  VID_19843       1      963     0        0       0  2010-10-02    PT26S   \n",
       "14998   VID_8534       1    15212    22        5       4  2016-02-19   PT1M1S   \n",
       "\n",
       "      category  \n",
       "0            F  \n",
       "1            D  \n",
       "2            C  \n",
       "3            H  \n",
       "4            D  \n",
       "...        ...  \n",
       "14994        A  \n",
       "14995        D  \n",
       "14996        B  \n",
       "14997        G  \n",
       "14998        D  \n",
       "\n",
       "[14999 rows x 9 columns]"
      ]
     },
     "execution_count": 3,
     "metadata": {},
     "output_type": "execute_result"
    }
   ],
   "source": [
    "# Loading Dataset\n",
    "data = pd.read_csv('train.csv')\n",
    "data"
   ]
  },
  {
   "cell_type": "code",
   "execution_count": 4,
   "id": "02bf3ce7",
   "metadata": {},
   "outputs": [
    {
     "data": {
      "text/html": [
       "<div>\n",
       "<style scoped>\n",
       "    .dataframe tbody tr th:only-of-type {\n",
       "        vertical-align: middle;\n",
       "    }\n",
       "\n",
       "    .dataframe tbody tr th {\n",
       "        vertical-align: top;\n",
       "    }\n",
       "\n",
       "    .dataframe thead th {\n",
       "        text-align: right;\n",
       "    }\n",
       "</style>\n",
       "<table border=\"1\" class=\"dataframe\">\n",
       "  <thead>\n",
       "    <tr style=\"text-align: right;\">\n",
       "      <th></th>\n",
       "      <th>vidid</th>\n",
       "      <th>adview</th>\n",
       "      <th>views</th>\n",
       "      <th>likes</th>\n",
       "      <th>dislikes</th>\n",
       "      <th>comment</th>\n",
       "      <th>published</th>\n",
       "      <th>duration</th>\n",
       "      <th>category</th>\n",
       "    </tr>\n",
       "  </thead>\n",
       "  <tbody>\n",
       "    <tr>\n",
       "      <th>0</th>\n",
       "      <td>VID_18655</td>\n",
       "      <td>40</td>\n",
       "      <td>1031602</td>\n",
       "      <td>8523</td>\n",
       "      <td>363</td>\n",
       "      <td>1095</td>\n",
       "      <td>2016-09-14</td>\n",
       "      <td>PT7M37S</td>\n",
       "      <td>F</td>\n",
       "    </tr>\n",
       "    <tr>\n",
       "      <th>1</th>\n",
       "      <td>VID_14135</td>\n",
       "      <td>2</td>\n",
       "      <td>1707</td>\n",
       "      <td>56</td>\n",
       "      <td>2</td>\n",
       "      <td>6</td>\n",
       "      <td>2016-10-01</td>\n",
       "      <td>PT9M30S</td>\n",
       "      <td>D</td>\n",
       "    </tr>\n",
       "    <tr>\n",
       "      <th>2</th>\n",
       "      <td>VID_2187</td>\n",
       "      <td>1</td>\n",
       "      <td>2023</td>\n",
       "      <td>25</td>\n",
       "      <td>0</td>\n",
       "      <td>2</td>\n",
       "      <td>2016-07-02</td>\n",
       "      <td>PT2M16S</td>\n",
       "      <td>C</td>\n",
       "    </tr>\n",
       "    <tr>\n",
       "      <th>3</th>\n",
       "      <td>VID_23096</td>\n",
       "      <td>6</td>\n",
       "      <td>620860</td>\n",
       "      <td>777</td>\n",
       "      <td>161</td>\n",
       "      <td>153</td>\n",
       "      <td>2016-07-27</td>\n",
       "      <td>PT4M22S</td>\n",
       "      <td>H</td>\n",
       "    </tr>\n",
       "    <tr>\n",
       "      <th>4</th>\n",
       "      <td>VID_10175</td>\n",
       "      <td>1</td>\n",
       "      <td>666</td>\n",
       "      <td>1</td>\n",
       "      <td>0</td>\n",
       "      <td>0</td>\n",
       "      <td>2016-06-29</td>\n",
       "      <td>PT31S</td>\n",
       "      <td>D</td>\n",
       "    </tr>\n",
       "  </tbody>\n",
       "</table>\n",
       "</div>"
      ],
      "text/plain": [
       "       vidid  adview    views likes dislikes comment   published duration  \\\n",
       "0  VID_18655      40  1031602  8523      363    1095  2016-09-14  PT7M37S   \n",
       "1  VID_14135       2     1707    56        2       6  2016-10-01  PT9M30S   \n",
       "2   VID_2187       1     2023    25        0       2  2016-07-02  PT2M16S   \n",
       "3  VID_23096       6   620860   777      161     153  2016-07-27  PT4M22S   \n",
       "4  VID_10175       1      666     1        0       0  2016-06-29    PT31S   \n",
       "\n",
       "  category  \n",
       "0        F  \n",
       "1        D  \n",
       "2        C  \n",
       "3        H  \n",
       "4        D  "
      ]
     },
     "execution_count": 4,
     "metadata": {},
     "output_type": "execute_result"
    }
   ],
   "source": [
    "# Checking Top 5 rows of the dataset\n",
    "data.head()"
   ]
  },
  {
   "cell_type": "code",
   "execution_count": 5,
   "id": "618f29f1",
   "metadata": {},
   "outputs": [
    {
     "data": {
      "text/html": [
       "<div>\n",
       "<style scoped>\n",
       "    .dataframe tbody tr th:only-of-type {\n",
       "        vertical-align: middle;\n",
       "    }\n",
       "\n",
       "    .dataframe tbody tr th {\n",
       "        vertical-align: top;\n",
       "    }\n",
       "\n",
       "    .dataframe thead th {\n",
       "        text-align: right;\n",
       "    }\n",
       "</style>\n",
       "<table border=\"1\" class=\"dataframe\">\n",
       "  <thead>\n",
       "    <tr style=\"text-align: right;\">\n",
       "      <th></th>\n",
       "      <th>vidid</th>\n",
       "      <th>adview</th>\n",
       "      <th>views</th>\n",
       "      <th>likes</th>\n",
       "      <th>dislikes</th>\n",
       "      <th>comment</th>\n",
       "      <th>published</th>\n",
       "      <th>duration</th>\n",
       "      <th>category</th>\n",
       "    </tr>\n",
       "  </thead>\n",
       "  <tbody>\n",
       "    <tr>\n",
       "      <th>14994</th>\n",
       "      <td>VID_31</td>\n",
       "      <td>2</td>\n",
       "      <td>525949</td>\n",
       "      <td>1137</td>\n",
       "      <td>83</td>\n",
       "      <td>86</td>\n",
       "      <td>2015-05-18</td>\n",
       "      <td>PT6M10S</td>\n",
       "      <td>A</td>\n",
       "    </tr>\n",
       "    <tr>\n",
       "      <th>14995</th>\n",
       "      <td>VID_5861</td>\n",
       "      <td>1</td>\n",
       "      <td>665673</td>\n",
       "      <td>3849</td>\n",
       "      <td>156</td>\n",
       "      <td>569</td>\n",
       "      <td>2015-10-20</td>\n",
       "      <td>PT3M56S</td>\n",
       "      <td>D</td>\n",
       "    </tr>\n",
       "    <tr>\n",
       "      <th>14996</th>\n",
       "      <td>VID_805</td>\n",
       "      <td>4</td>\n",
       "      <td>3479</td>\n",
       "      <td>16</td>\n",
       "      <td>1</td>\n",
       "      <td>1</td>\n",
       "      <td>2013-08-23</td>\n",
       "      <td>PT3M13S</td>\n",
       "      <td>B</td>\n",
       "    </tr>\n",
       "    <tr>\n",
       "      <th>14997</th>\n",
       "      <td>VID_19843</td>\n",
       "      <td>1</td>\n",
       "      <td>963</td>\n",
       "      <td>0</td>\n",
       "      <td>0</td>\n",
       "      <td>0</td>\n",
       "      <td>2010-10-02</td>\n",
       "      <td>PT26S</td>\n",
       "      <td>G</td>\n",
       "    </tr>\n",
       "    <tr>\n",
       "      <th>14998</th>\n",
       "      <td>VID_8534</td>\n",
       "      <td>1</td>\n",
       "      <td>15212</td>\n",
       "      <td>22</td>\n",
       "      <td>5</td>\n",
       "      <td>4</td>\n",
       "      <td>2016-02-19</td>\n",
       "      <td>PT1M1S</td>\n",
       "      <td>D</td>\n",
       "    </tr>\n",
       "  </tbody>\n",
       "</table>\n",
       "</div>"
      ],
      "text/plain": [
       "           vidid  adview   views likes dislikes comment   published duration  \\\n",
       "14994     VID_31       2  525949  1137       83      86  2015-05-18  PT6M10S   \n",
       "14995   VID_5861       1  665673  3849      156     569  2015-10-20  PT3M56S   \n",
       "14996    VID_805       4    3479    16        1       1  2013-08-23  PT3M13S   \n",
       "14997  VID_19843       1     963     0        0       0  2010-10-02    PT26S   \n",
       "14998   VID_8534       1   15212    22        5       4  2016-02-19   PT1M1S   \n",
       "\n",
       "      category  \n",
       "14994        A  \n",
       "14995        D  \n",
       "14996        B  \n",
       "14997        G  \n",
       "14998        D  "
      ]
     },
     "execution_count": 5,
     "metadata": {},
     "output_type": "execute_result"
    }
   ],
   "source": [
    "# Checking last 5 rows of the dataset\n",
    "data.tail()"
   ]
  },
  {
   "cell_type": "code",
   "execution_count": 6,
   "id": "6bd16e9b",
   "metadata": {},
   "outputs": [
    {
     "data": {
      "text/plain": [
       "(14999, 9)"
      ]
     },
     "execution_count": 6,
     "metadata": {},
     "output_type": "execute_result"
    }
   ],
   "source": [
    "# Getting the shape of dataset: No of rows and column of the dataset\n",
    "data.shape"
   ]
  },
  {
   "cell_type": "markdown",
   "id": "a95349af",
   "metadata": {},
   "source": [
    "There are 14999 observations in the dataset. And has 9 columns."
   ]
  },
  {
   "cell_type": "code",
   "execution_count": 7,
   "id": "f285193c",
   "metadata": {},
   "outputs": [
    {
     "name": "stdout",
     "output_type": "stream",
     "text": [
      "Dataset Datatypes:\n",
      " vidid        object\n",
      "adview        int64\n",
      "views        object\n",
      "likes        object\n",
      "dislikes     object\n",
      "comment      object\n",
      "published    object\n",
      "duration     object\n",
      "category     object\n",
      "dtype: object\n"
     ]
    }
   ],
   "source": [
    "# Getting all datatypes of features\n",
    "print(\"Dataset Datatypes:\\n\", data.dtypes)"
   ]
  },
  {
   "cell_type": "markdown",
   "id": "37ab06f2",
   "metadata": {},
   "source": [
    "we can see that for each of the columns, But adview have only in int data type and other columns that have in object date types."
   ]
  },
  {
   "cell_type": "code",
   "execution_count": 8,
   "id": "6bca8234",
   "metadata": {},
   "outputs": [
    {
     "name": "stdout",
     "output_type": "stream",
     "text": [
      "<class 'pandas.core.frame.DataFrame'>\n",
      "RangeIndex: 14999 entries, 0 to 14998\n",
      "Data columns (total 9 columns):\n",
      " #   Column     Non-Null Count  Dtype \n",
      "---  ------     --------------  ----- \n",
      " 0   vidid      14999 non-null  object\n",
      " 1   adview     14999 non-null  int64 \n",
      " 2   views      14999 non-null  object\n",
      " 3   likes      14999 non-null  object\n",
      " 4   dislikes   14999 non-null  object\n",
      " 5   comment    14999 non-null  object\n",
      " 6   published  14999 non-null  object\n",
      " 7   duration   14999 non-null  object\n",
      " 8   category   14999 non-null  object\n",
      "dtypes: int64(1), object(8)\n",
      "memory usage: 1.0+ MB\n"
     ]
    }
   ],
   "source": [
    "# getting all details of the features.\n",
    "data.info()"
   ]
  },
  {
   "cell_type": "code",
   "execution_count": 9,
   "id": "29824825",
   "metadata": {},
   "outputs": [
    {
     "data": {
      "text/html": [
       "<div>\n",
       "<style scoped>\n",
       "    .dataframe tbody tr th:only-of-type {\n",
       "        vertical-align: middle;\n",
       "    }\n",
       "\n",
       "    .dataframe tbody tr th {\n",
       "        vertical-align: top;\n",
       "    }\n",
       "\n",
       "    .dataframe thead th {\n",
       "        text-align: right;\n",
       "    }\n",
       "</style>\n",
       "<table border=\"1\" class=\"dataframe\">\n",
       "  <thead>\n",
       "    <tr style=\"text-align: right;\">\n",
       "      <th></th>\n",
       "      <th>adview</th>\n",
       "    </tr>\n",
       "  </thead>\n",
       "  <tbody>\n",
       "    <tr>\n",
       "      <th>count</th>\n",
       "      <td>1.499900e+04</td>\n",
       "    </tr>\n",
       "    <tr>\n",
       "      <th>mean</th>\n",
       "      <td>2.107791e+03</td>\n",
       "    </tr>\n",
       "    <tr>\n",
       "      <th>std</th>\n",
       "      <td>5.237711e+04</td>\n",
       "    </tr>\n",
       "    <tr>\n",
       "      <th>min</th>\n",
       "      <td>1.000000e+00</td>\n",
       "    </tr>\n",
       "    <tr>\n",
       "      <th>25%</th>\n",
       "      <td>1.000000e+00</td>\n",
       "    </tr>\n",
       "    <tr>\n",
       "      <th>50%</th>\n",
       "      <td>2.000000e+00</td>\n",
       "    </tr>\n",
       "    <tr>\n",
       "      <th>75%</th>\n",
       "      <td>6.000000e+00</td>\n",
       "    </tr>\n",
       "    <tr>\n",
       "      <th>max</th>\n",
       "      <td>5.429665e+06</td>\n",
       "    </tr>\n",
       "  </tbody>\n",
       "</table>\n",
       "</div>"
      ],
      "text/plain": [
       "             adview\n",
       "count  1.499900e+04\n",
       "mean   2.107791e+03\n",
       "std    5.237711e+04\n",
       "min    1.000000e+00\n",
       "25%    1.000000e+00\n",
       "50%    2.000000e+00\n",
       "75%    6.000000e+00\n",
       "max    5.429665e+06"
      ]
     },
     "execution_count": 9,
     "metadata": {},
     "output_type": "execute_result"
    }
   ],
   "source": [
    "# let's look at the statistical aspects of the dataframes\n",
    "data.describe()"
   ]
  },
  {
   "cell_type": "markdown",
   "id": "a07e2668",
   "metadata": {},
   "source": [
    "## Data Cleaning"
   ]
  },
  {
   "cell_type": "code",
   "execution_count": 10,
   "id": "0f98e9ea",
   "metadata": {},
   "outputs": [
    {
     "data": {
      "text/plain": [
       "vidid        0\n",
       "adview       0\n",
       "views        0\n",
       "likes        0\n",
       "dislikes     0\n",
       "comment      0\n",
       "published    0\n",
       "duration     0\n",
       "category     0\n",
       "dtype: int64"
      ]
     },
     "execution_count": 10,
     "metadata": {},
     "output_type": "execute_result"
    }
   ],
   "source": [
    "# checking missing value\n",
    "data.isnull().sum()"
   ]
  },
  {
   "cell_type": "markdown",
   "id": "39aad998",
   "metadata": {},
   "source": [
    "There are no missing value present in our dataset so, we don't have to deal with that."
   ]
  },
  {
   "cell_type": "code",
   "execution_count": 11,
   "id": "c022ea1a",
   "metadata": {},
   "outputs": [
    {
     "data": {
      "text/plain": [
       "0"
      ]
     },
     "execution_count": 11,
     "metadata": {},
     "output_type": "execute_result"
    }
   ],
   "source": [
    "# checking duplicate values\n",
    "len(data[data.duplicated()])"
   ]
  },
  {
   "cell_type": "code",
   "execution_count": 12,
   "id": "b85bdd8f",
   "metadata": {},
   "outputs": [],
   "source": [
    "# Removing character \"F\" present in data\n",
    "data =  data[data.views!='F']\n",
    "data =  data[data.likes!='F']\n",
    "data =  data[data.dislikes!='F']\n",
    "data =  data[data.comment!='F']"
   ]
  },
  {
   "cell_type": "code",
   "execution_count": 13,
   "id": "b5d41975",
   "metadata": {},
   "outputs": [
    {
     "data": {
      "text/plain": [
       "Index(['vidid', 'adview', 'views', 'likes', 'dislikes', 'comment', 'published',\n",
       "       'duration', 'category'],\n",
       "      dtype='object')"
      ]
     },
     "execution_count": 13,
     "metadata": {},
     "output_type": "execute_result"
    }
   ],
   "source": [
    "data.columns"
   ]
  },
  {
   "cell_type": "markdown",
   "id": "87019811",
   "metadata": {},
   "source": [
    "## Data Preprocessing"
   ]
  },
  {
   "cell_type": "code",
   "execution_count": 14,
   "id": "842e153e",
   "metadata": {},
   "outputs": [
    {
     "data": {
      "text/plain": [
       "0    6\n",
       "1    4\n",
       "2    3\n",
       "3    8\n",
       "4    4\n",
       "Name: category, dtype: int64"
      ]
     },
     "execution_count": 14,
     "metadata": {},
     "output_type": "execute_result"
    }
   ],
   "source": [
    "# Transform some categorical attributes into numerical values using\n",
    "data[\"category\"] = data[\"category\"].replace({'A': 1,'B':2,'C':3,'D':4,'E':5,'F':6,'G':7,'H':8})\n",
    "data[\"category\"].head()"
   ]
  },
  {
   "cell_type": "code",
   "execution_count": 15,
   "id": "25d61834",
   "metadata": {},
   "outputs": [
    {
     "data": {
      "text/html": [
       "<div>\n",
       "<style scoped>\n",
       "    .dataframe tbody tr th:only-of-type {\n",
       "        vertical-align: middle;\n",
       "    }\n",
       "\n",
       "    .dataframe tbody tr th {\n",
       "        vertical-align: top;\n",
       "    }\n",
       "\n",
       "    .dataframe thead th {\n",
       "        text-align: right;\n",
       "    }\n",
       "</style>\n",
       "<table border=\"1\" class=\"dataframe\">\n",
       "  <thead>\n",
       "    <tr style=\"text-align: right;\">\n",
       "      <th></th>\n",
       "      <th>vidid</th>\n",
       "      <th>adview</th>\n",
       "      <th>views</th>\n",
       "      <th>likes</th>\n",
       "      <th>dislikes</th>\n",
       "      <th>comment</th>\n",
       "      <th>published</th>\n",
       "      <th>duration</th>\n",
       "      <th>category</th>\n",
       "    </tr>\n",
       "  </thead>\n",
       "  <tbody>\n",
       "    <tr>\n",
       "      <th>0</th>\n",
       "      <td>5912</td>\n",
       "      <td>40</td>\n",
       "      <td>1031602</td>\n",
       "      <td>8523</td>\n",
       "      <td>363</td>\n",
       "      <td>1095</td>\n",
       "      <td>2168</td>\n",
       "      <td>2925</td>\n",
       "      <td>6</td>\n",
       "    </tr>\n",
       "    <tr>\n",
       "      <th>1</th>\n",
       "      <td>2741</td>\n",
       "      <td>2</td>\n",
       "      <td>1707</td>\n",
       "      <td>56</td>\n",
       "      <td>2</td>\n",
       "      <td>6</td>\n",
       "      <td>2185</td>\n",
       "      <td>3040</td>\n",
       "      <td>4</td>\n",
       "    </tr>\n",
       "    <tr>\n",
       "      <th>2</th>\n",
       "      <td>8138</td>\n",
       "      <td>1</td>\n",
       "      <td>2023</td>\n",
       "      <td>25</td>\n",
       "      <td>0</td>\n",
       "      <td>2</td>\n",
       "      <td>2094</td>\n",
       "      <td>1863</td>\n",
       "      <td>3</td>\n",
       "    </tr>\n",
       "    <tr>\n",
       "      <th>3</th>\n",
       "      <td>9005</td>\n",
       "      <td>6</td>\n",
       "      <td>620860</td>\n",
       "      <td>777</td>\n",
       "      <td>161</td>\n",
       "      <td>153</td>\n",
       "      <td>2119</td>\n",
       "      <td>2546</td>\n",
       "      <td>8</td>\n",
       "    </tr>\n",
       "    <tr>\n",
       "      <th>4</th>\n",
       "      <td>122</td>\n",
       "      <td>1</td>\n",
       "      <td>666</td>\n",
       "      <td>1</td>\n",
       "      <td>0</td>\n",
       "      <td>0</td>\n",
       "      <td>2091</td>\n",
       "      <td>1963</td>\n",
       "      <td>4</td>\n",
       "    </tr>\n",
       "  </tbody>\n",
       "</table>\n",
       "</div>"
      ],
      "text/plain": [
       "   vidid  adview    views likes dislikes comment  published  duration  \\\n",
       "0   5912      40  1031602  8523      363    1095       2168      2925   \n",
       "1   2741       2     1707    56        2       6       2185      3040   \n",
       "2   8138       1     2023    25        0       2       2094      1863   \n",
       "3   9005       6   620860   777      161     153       2119      2546   \n",
       "4    122       1      666     1        0       0       2091      1963   \n",
       "\n",
       "   category  \n",
       "0         6  \n",
       "1         4  \n",
       "2         3  \n",
       "3         8  \n",
       "4         4  "
      ]
     },
     "execution_count": 15,
     "metadata": {},
     "output_type": "execute_result"
    }
   ],
   "source": [
    "# Endoding features like Category, Duration, Vidid\n",
    "from sklearn.preprocessing import LabelEncoder\n",
    "data['duration']=LabelEncoder().fit_transform(data['duration'])\n",
    "data['vidid']=LabelEncoder().fit_transform(data['vidid'])\n",
    "data['published']=LabelEncoder().fit_transform(data['published'])\n",
    "data.head()"
   ]
  },
  {
   "cell_type": "code",
   "execution_count": 16,
   "id": "ef2b011d",
   "metadata": {},
   "outputs": [],
   "source": [
    "# Convert Time_in_sec for duration\n",
    "import datetime\n",
    "import time\n",
    "\n",
    "def checki(x):\n",
    "    y = x[2:]\n",
    "    h = ''\n",
    "    m = ''\n",
    "    s = ''\n",
    "    mm = ''\n",
    "    P = ['H','M','S']\n",
    "    for i in y:\n",
    "        if i not in P:\n",
    "            mm+=i\n",
    "        else:\n",
    "            if(i==\"H\"):\n",
    "                h = mm\n",
    "                mm = ''\n",
    "            elif(i == \"M\"):\n",
    "                m = mm\n",
    "                mm = ''\n",
    "            else:\n",
    "                s = mm\n",
    "                mm = ''\n",
    "    if(h==''):\n",
    "        h = '00'\n",
    "    if(m == ''):\n",
    "        m = '00'\n",
    "    if(s==''):\n",
    "        s='00'\n",
    "    bp = h+':'+m+':'+s\n",
    "    return bp"
   ]
  },
  {
   "cell_type": "code",
   "execution_count": 17,
   "id": "5fd04269",
   "metadata": {},
   "outputs": [],
   "source": [
    "mp = pd.read_csv(\"train.csv\")[\"duration\"]\n",
    "time = mp.apply(checki)"
   ]
  },
  {
   "cell_type": "code",
   "execution_count": 18,
   "id": "7eea99d7",
   "metadata": {},
   "outputs": [
    {
     "data": {
      "text/html": [
       "<div>\n",
       "<style scoped>\n",
       "    .dataframe tbody tr th:only-of-type {\n",
       "        vertical-align: middle;\n",
       "    }\n",
       "\n",
       "    .dataframe tbody tr th {\n",
       "        vertical-align: top;\n",
       "    }\n",
       "\n",
       "    .dataframe thead th {\n",
       "        text-align: right;\n",
       "    }\n",
       "</style>\n",
       "<table border=\"1\" class=\"dataframe\">\n",
       "  <thead>\n",
       "    <tr style=\"text-align: right;\">\n",
       "      <th></th>\n",
       "      <th>vidid</th>\n",
       "      <th>adview</th>\n",
       "      <th>views</th>\n",
       "      <th>likes</th>\n",
       "      <th>dislikes</th>\n",
       "      <th>comment</th>\n",
       "      <th>published</th>\n",
       "      <th>duration</th>\n",
       "      <th>category</th>\n",
       "    </tr>\n",
       "  </thead>\n",
       "  <tbody>\n",
       "    <tr>\n",
       "      <th>0</th>\n",
       "      <td>5912</td>\n",
       "      <td>40</td>\n",
       "      <td>1031602</td>\n",
       "      <td>8523</td>\n",
       "      <td>363</td>\n",
       "      <td>1095</td>\n",
       "      <td>2168</td>\n",
       "      <td>457</td>\n",
       "      <td>6</td>\n",
       "    </tr>\n",
       "    <tr>\n",
       "      <th>1</th>\n",
       "      <td>2741</td>\n",
       "      <td>2</td>\n",
       "      <td>1707</td>\n",
       "      <td>56</td>\n",
       "      <td>2</td>\n",
       "      <td>6</td>\n",
       "      <td>2185</td>\n",
       "      <td>570</td>\n",
       "      <td>4</td>\n",
       "    </tr>\n",
       "    <tr>\n",
       "      <th>2</th>\n",
       "      <td>8138</td>\n",
       "      <td>1</td>\n",
       "      <td>2023</td>\n",
       "      <td>25</td>\n",
       "      <td>0</td>\n",
       "      <td>2</td>\n",
       "      <td>2094</td>\n",
       "      <td>136</td>\n",
       "      <td>3</td>\n",
       "    </tr>\n",
       "    <tr>\n",
       "      <th>3</th>\n",
       "      <td>9005</td>\n",
       "      <td>6</td>\n",
       "      <td>620860</td>\n",
       "      <td>777</td>\n",
       "      <td>161</td>\n",
       "      <td>153</td>\n",
       "      <td>2119</td>\n",
       "      <td>262</td>\n",
       "      <td>8</td>\n",
       "    </tr>\n",
       "    <tr>\n",
       "      <th>4</th>\n",
       "      <td>122</td>\n",
       "      <td>1</td>\n",
       "      <td>666</td>\n",
       "      <td>1</td>\n",
       "      <td>0</td>\n",
       "      <td>0</td>\n",
       "      <td>2091</td>\n",
       "      <td>31</td>\n",
       "      <td>4</td>\n",
       "    </tr>\n",
       "  </tbody>\n",
       "</table>\n",
       "</div>"
      ],
      "text/plain": [
       "   vidid  adview    views likes dislikes comment  published  duration  \\\n",
       "0   5912      40  1031602  8523      363    1095       2168       457   \n",
       "1   2741       2     1707    56        2       6       2185       570   \n",
       "2   8138       1     2023    25        0       2       2094       136   \n",
       "3   9005       6   620860   777      161     153       2119       262   \n",
       "4    122       1      666     1        0       0       2091        31   \n",
       "\n",
       "   category  \n",
       "0         6  \n",
       "1         4  \n",
       "2         3  \n",
       "3         8  \n",
       "4         4  "
      ]
     },
     "execution_count": 18,
     "metadata": {},
     "output_type": "execute_result"
    }
   ],
   "source": [
    "def func_sec(time_string):\n",
    "    h, m, s = time_string.split(':')\n",
    "    return int(h) * 3600 + int(m) * 60 + int(s)\n",
    "\n",
    "\n",
    "time1 = time.apply(func_sec)\n",
    "data [\"duration\"]=time1\n",
    "data.head()"
   ]
  },
  {
   "cell_type": "code",
   "execution_count": 19,
   "id": "8aeecb18",
   "metadata": {},
   "outputs": [],
   "source": [
    "# Transform data type of attributes into integer data type.\n",
    "data['views'] = data['views'].astype(int)\n",
    "data['comment'] = data['comment'].astype(int)\n",
    "data['likes'] = data['likes'].astype(int)\n",
    "data['dislikes'] = data['dislikes'].astype(int)"
   ]
  },
  {
   "cell_type": "code",
   "execution_count": 20,
   "id": "a46477e4",
   "metadata": {},
   "outputs": [
    {
     "data": {
      "text/plain": [
       "vidid        int32\n",
       "adview       int64\n",
       "views        int32\n",
       "likes        int32\n",
       "dislikes     int32\n",
       "comment      int32\n",
       "published    int32\n",
       "duration     int64\n",
       "category     int64\n",
       "dtype: object"
      ]
     },
     "execution_count": 20,
     "metadata": {},
     "output_type": "execute_result"
    }
   ],
   "source": [
    "# Again check datatype\n",
    "data.dtypes"
   ]
  },
  {
   "cell_type": "markdown",
   "id": "9e9a5161",
   "metadata": {},
   "source": [
    "## Visualisation"
   ]
  },
  {
   "cell_type": "code",
   "execution_count": 21,
   "id": "50290253",
   "metadata": {},
   "outputs": [
    {
     "data": {
      "text/plain": [
       "Index(['vidid', 'adview', 'views', 'likes', 'dislikes', 'comment', 'published',\n",
       "       'duration', 'category'],\n",
       "      dtype='object')"
      ]
     },
     "execution_count": 21,
     "metadata": {},
     "output_type": "execute_result"
    }
   ],
   "source": [
    "data.columns"
   ]
  },
  {
   "cell_type": "code",
   "execution_count": 22,
   "id": "4454bcaf",
   "metadata": {},
   "outputs": [
    {
     "data": {
      "image/png": "[encoded data removed]",
      "text/plain": [
       "<Figure size 576x432 with 1 Axes>"
      ]
     },
     "metadata": {
      "needs_background": "light"
     },
     "output_type": "display_data"
    }
   ],
   "source": [
    "#plot the count plot to check the data distribution\n",
    "plt.figure(figsize=(8,6))\n",
    "ax = sns.countplot(x = 'category',data = data)\n",
    "plt.xlabel(\"category\", fontsize= 15)\n",
    "plt.title('Distribution of category ',weight ='bold', fontsize= 12)\n",
    "\n",
    "# This step is used for showing the percentage on the graph\n",
    "total = len(data)\n",
    "for p in ax.patches:       \n",
    "    percentage = f'{100 * p.get_height() / total:.1f}%\\n'\n",
    "    x = p.get_x() + p.get_width() / 2\n",
    "    y = p.get_height()\n",
    "    ax.annotate(percentage, (x, y), ha='center', va='center')\n",
    "plt.tight_layout()"
   ]
  },
  {
   "cell_type": "code",
   "execution_count": 23,
   "id": "86fba6fe",
   "metadata": {},
   "outputs": [
    {
     "data": {
      "image/png": "[encoded data removed]",
      "text/plain": [
       "<Figure size 576x432 with 1 Axes>"
      ]
     },
     "metadata": {
      "needs_background": "light"
     },
     "output_type": "display_data"
    }
   ],
   "source": [
    "# distribution of adview\n",
    "plt.figure(figsize=(8,6))\n",
    "plt.plot(data[\"adview\"])\n",
    "plt.show()"
   ]
  },
  {
   "cell_type": "code",
   "execution_count": 24,
   "id": "991c5d7e",
   "metadata": {},
   "outputs": [
    {
     "data": {
      "image/png": "[encoded data removed]",
      "text/plain": [
       "<Figure size 720x432 with 1 Axes>"
      ]
     },
     "metadata": {
      "needs_background": "light"
     },
     "output_type": "display_data"
    }
   ],
   "source": [
    "# lets check outlier through boxplot\n",
    "plt.figure(figsize=(10,6))\n",
    "ax = sns.boxplot(x=\"adview\", data=data)"
   ]
  },
  {
   "cell_type": "code",
   "execution_count": 25,
   "id": "c266ca25",
   "metadata": {},
   "outputs": [],
   "source": [
    "# Remove videos with adview greater than 2000000 as outlier\n",
    "data = data[data[\"adview\"] <2000000]"
   ]
  },
  {
   "cell_type": "code",
   "execution_count": 26,
   "id": "00b55da7",
   "metadata": {},
   "outputs": [
    {
     "data": {
      "image/png": "[encoded data removed]",
      "text/plain": [
       "<Figure size 720x432 with 1 Axes>"
      ]
     },
     "metadata": {
      "needs_background": "light"
     },
     "output_type": "display_data"
    }
   ],
   "source": [
    "# lets check again\n",
    "plt.figure(figsize=(10,6))\n",
    "ax = sns.boxplot(x=\"adview\", data=data)"
   ]
  },
  {
   "cell_type": "code",
   "execution_count": 27,
   "id": "d3997fc1",
   "metadata": {},
   "outputs": [
    {
     "data": {
      "text/plain": [
       "<AxesSubplot:>"
      ]
     },
     "execution_count": 27,
     "metadata": {},
     "output_type": "execute_result"
    },
    {
     "data": {
      "image/png": "[encoded data removed]",
      "text/plain": [
       "<Figure size 864x576 with 2 Axes>"
      ]
     },
     "metadata": {
      "needs_background": "light"
     },
     "output_type": "display_data"
    }
   ],
   "source": [
    "plt.figure(figsize=(12,8))\n",
    "sns.heatmap(data.corr(),annot=True,cmap=\"coolwarm\")"
   ]
  },
  {
   "cell_type": "markdown",
   "id": "361bfb08",
   "metadata": {},
   "source": [
    "Above heatmap It seems that there is some negatively correlated feature like duration, likes and many more. And vidID is unimportant and has no role in prediction so we will remove it."
   ]
  },
  {
   "cell_type": "code",
   "execution_count": 28,
   "id": "0a09513b",
   "metadata": {},
   "outputs": [],
   "source": [
    "# drop the features that are in no use\n",
    "data.drop(['vidid'],axis = 1,inplace = True)"
   ]
  },
  {
   "cell_type": "code",
   "execution_count": 29,
   "id": "c499b76b",
   "metadata": {},
   "outputs": [],
   "source": [
    "# copying new dataset for model\n",
    "new_data = data.copy()"
   ]
  },
  {
   "cell_type": "markdown",
   "id": "110c1706",
   "metadata": {},
   "source": [
    "## Machine Learning Model - Regression"
   ]
  },
  {
   "cell_type": "code",
   "execution_count": 30,
   "id": "4eba9acb",
   "metadata": {},
   "outputs": [],
   "source": [
    "from sklearn.model_selection import train_test_split\n",
    "from sklearn import model_selection\n",
    "from sklearn.preprocessing import StandardScaler, MinMaxScaler\n",
    "\n",
    "from sklearn.linear_model import LinearRegression\n",
    "from sklearn.svm import SVR\n",
    "from sklearn.tree import DecisionTreeRegressor\n",
    "from sklearn.ensemble import RandomForestRegressor\n",
    "\n",
    "\n",
    "# Evaluation Metrics\n",
    "from sklearn.model_selection import GridSearchCV\n",
    "from sklearn import metrics\n",
    "from sklearn.metrics import mean_squared_error\n",
    "from sklearn.metrics import mean_absolute_error\n",
    "from sklearn.metrics import r2_score, mean_absolute_percentage_error\n",
    "from scipy.stats import zscore"
   ]
  },
  {
   "cell_type": "code",
   "execution_count": 31,
   "id": "9a559b24",
   "metadata": {},
   "outputs": [
    {
     "data": {
      "text/plain": [
       "Index(['adview', 'views', 'likes', 'dislikes', 'comment', 'published',\n",
       "       'duration', 'category'],\n",
       "      dtype='object')"
      ]
     },
     "execution_count": 31,
     "metadata": {},
     "output_type": "execute_result"
    }
   ],
   "source": [
    "new_data.columns"
   ]
  },
  {
   "cell_type": "code",
   "execution_count": 32,
   "id": "e73ca8f5",
   "metadata": {},
   "outputs": [],
   "source": [
    "# selecting the independent and dependent variable.\n",
    "\n",
    "#independent variables\n",
    "X = new_data.drop(['adview'],axis = 1)\n",
    "\n",
    "# dependent variable \n",
    "y = new_data['adview']"
   ]
  },
  {
   "cell_type": "code",
   "execution_count": 33,
   "id": "425fc728",
   "metadata": {},
   "outputs": [
    {
     "name": "stdout",
     "output_type": "stream",
     "text": [
      "Shape of independent variable: (14636, 7)\n",
      "Shape of dependent variable: (14636,)\n"
     ]
    }
   ],
   "source": [
    "# shape of independent and dependent feature\n",
    "print('Shape of independent variable:', X.shape)\n",
    "print('Shape of dependent variable:', y.shape)"
   ]
  },
  {
   "cell_type": "code",
   "execution_count": 34,
   "id": "4b964239",
   "metadata": {},
   "outputs": [],
   "source": [
    "# Splitting the dataset into the Training set and Test set\n",
    "X_train, X_test, y_train, y_test = train_test_split(X,y, test_size=0.2,random_state = 0)"
   ]
  },
  {
   "cell_type": "code",
   "execution_count": 35,
   "id": "fffadabc",
   "metadata": {},
   "outputs": [
    {
     "name": "stdout",
     "output_type": "stream",
     "text": [
      "(11708, 7)\n",
      "(2928, 7)\n"
     ]
    }
   ],
   "source": [
    "print(X_train.shape)\n",
    "print(X_test.shape)"
   ]
  },
  {
   "cell_type": "code",
   "execution_count": 36,
   "id": "c9265a0a",
   "metadata": {},
   "outputs": [
    {
     "name": "stdout",
     "output_type": "stream",
     "text": [
      "(11708,)\n",
      "(2928,)\n"
     ]
    }
   ],
   "source": [
    "print(y_train.shape)\n",
    "print(y_test.shape)"
   ]
  },
  {
   "cell_type": "code",
   "execution_count": 37,
   "id": "446a5f7d",
   "metadata": {},
   "outputs": [
    {
     "data": {
      "text/plain": [
       "0.17413679689005462"
      ]
     },
     "execution_count": 37,
     "metadata": {},
     "output_type": "execute_result"
    }
   ],
   "source": [
    "# Normalise Data\n",
    "scaler = MinMaxScaler()\n",
    "X_train=scaler.fit_transform(X_train)\n",
    "X_test=scaler.fit_transform(X_test)\n",
    "X_train.mean()"
   ]
  },
  {
   "cell_type": "code",
   "execution_count": 38,
   "id": "b340018f",
   "metadata": {},
   "outputs": [],
   "source": [
    "# storing the test set metrics value in a dataframe for later comparison\n",
    "test_data = pd.DataFrame()"
   ]
  },
  {
   "cell_type": "markdown",
   "id": "193f5615",
   "metadata": {},
   "source": [
    "# Linear Regression"
   ]
  },
  {
   "cell_type": "code",
   "execution_count": 39,
   "id": "ec66b227",
   "metadata": {},
   "outputs": [
    {
     "data": {
      "text/html": [
       "<style>#sk-container-id-1 {color: black;background-color: white;}#sk-container-id-1 pre{padding: 0;}#sk-container-id-1 div.sk-toggleable {background-color: white;}#sk-container-id-1 label.sk-toggleable__label {cursor: pointer;display: block;width: 100%;margin-bottom: 0;padding: 0.3em;box-sizing: border-box;text-align: center;}#sk-container-id-1 label.sk-toggleable__label-arrow:before {content: \"▸\";float: left;margin-right: 0.25em;color: #696969;}#sk-container-id-1 label.sk-toggleable__label-arrow:hover:before {color: black;}#sk-container-id-1 div.sk-estimator:hover label.sk-toggleable__label-arrow:before {color: black;}#sk-container-id-1 div.sk-toggleable__content {max-height: 0;max-width: 0;overflow: hidden;text-align: left;background-color: #f0f8ff;}#sk-container-id-1 div.sk-toggleable__content pre {margin: 0.2em;color: black;border-radius: 0.25em;background-color: #f0f8ff;}#sk-container-id-1 input.sk-toggleable__control:checked~div.sk-toggleable__content {max-height: 200px;max-width: 100%;overflow: auto;}#sk-container-id-1 input.sk-toggleable__control:checked~label.sk-toggleable__label-arrow:before {content: \"▾\";}#sk-container-id-1 div.sk-estimator input.sk-toggleable__control:checked~label.sk-toggleable__label {background-color: #d4ebff;}#sk-container-id-1 div.sk-label input.sk-toggleable__control:checked~label.sk-toggleable__label {background-color: #d4ebff;}#sk-container-id-1 input.sk-hidden--visually {border: 0;clip: rect(1px 1px 1px 1px);clip: rect(1px, 1px, 1px, 1px);height: 1px;margin: -1px;overflow: hidden;padding: 0;position: absolute;width: 1px;}#sk-container-id-1 div.sk-estimator {font-family: monospace;background-color: #f0f8ff;border: 1px dotted black;border-radius: 0.25em;box-sizing: border-box;margin-bottom: 0.5em;}#sk-container-id-1 div.sk-estimator:hover {background-color: #d4ebff;}#sk-container-id-1 div.sk-parallel-item::after {content: \"\";width: 100%;border-bottom: 1px solid gray;flex-grow: 1;}#sk-container-id-1 div.sk-label:hover label.sk-toggleable__label {background-color: #d4ebff;}#sk-container-id-1 div.sk-serial::before {content: \"\";position: absolute;border-left: 1px solid gray;box-sizing: border-box;top: 0;bottom: 0;left: 50%;z-index: 0;}#sk-container-id-1 div.sk-serial {display: flex;flex-direction: column;align-items: center;background-color: white;padding-right: 0.2em;padding-left: 0.2em;position: relative;}#sk-container-id-1 div.sk-item {position: relative;z-index: 1;}#sk-container-id-1 div.sk-parallel {display: flex;align-items: stretch;justify-content: center;background-color: white;position: relative;}#sk-container-id-1 div.sk-item::before, #sk-container-id-1 div.sk-parallel-item::before {content: \"\";position: absolute;border-left: 1px solid gray;box-sizing: border-box;top: 0;bottom: 0;left: 50%;z-index: -1;}#sk-container-id-1 div.sk-parallel-item {display: flex;flex-direction: column;z-index: 1;position: relative;background-color: white;}#sk-container-id-1 div.sk-parallel-item:first-child::after {align-self: flex-end;width: 50%;}#sk-container-id-1 div.sk-parallel-item:last-child::after {align-self: flex-start;width: 50%;}#sk-container-id-1 div.sk-parallel-item:only-child::after {width: 0;}#sk-container-id-1 div.sk-dashed-wrapped {border: 1px dashed gray;margin: 0 0.4em 0.5em 0.4em;box-sizing: border-box;padding-bottom: 0.4em;background-color: white;}#sk-container-id-1 div.sk-label label {font-family: monospace;font-weight: bold;display: inline-block;line-height: 1.2em;}#sk-container-id-1 div.sk-label-container {text-align: center;}#sk-container-id-1 div.sk-container {/* jupyter's `normalize.less` sets `[hidden] { display: none; }` but bootstrap.min.css set `[hidden] { display: none !important; }` so we also need the `!important` here to be able to override the default hidden behavior on the sphinx rendered scikit-learn.org. See: https://github.com/scikit-learn/scikit-learn/issues/21755 */display: inline-block !important;position: relative;}#sk-container-id-1 div.sk-text-repr-fallback {display: none;}</style><div id=\"sk-container-id-1\" class=\"sk-top-container\"><div class=\"sk-text-repr-fallback\"><pre>LinearRegression()</pre><b>In a Jupyter environment, please rerun this cell to show the HTML representation or trust the notebook. <br />On GitHub, the HTML representation is unable to render, please try loading this page with nbviewer.org.</b></div><div class=\"sk-container\" hidden><div class=\"sk-item\"><div class=\"sk-estimator sk-toggleable\"><input class=\"sk-toggleable__control sk-hidden--visually\" id=\"sk-estimator-id-1\" type=\"checkbox\" checked><label for=\"sk-estimator-id-1\" class=\"sk-toggleable__label sk-toggleable__label-arrow\">LinearRegression</label><div class=\"sk-toggleable__content\"><pre>LinearRegression()</pre></div></div></div></div></div>"
      ],
      "text/plain": [
       "LinearRegression()"
      ]
     },
     "execution_count": 39,
     "metadata": {},
     "output_type": "execute_result"
    }
   ],
   "source": [
    "# Fitting the data to Linear Regression model\n",
    "Lin_reg = LinearRegression()\n",
    "Lin_reg.fit(X_train,y_train)"
   ]
  },
  {
   "cell_type": "code",
   "execution_count": 40,
   "id": "21c4ca10",
   "metadata": {},
   "outputs": [
    {
     "name": "stdout",
     "output_type": "stream",
     "text": [
      "Regression score: 0.003796024397834774\n",
      "\n",
      "\n",
      "Regression intercept: -1893.3434130747378\n",
      "\n",
      "\n",
      "Regression coefficient;  [ 22438.46382043 -11627.8112832    -784.17887551  -5799.0476644\n",
      "   5936.66673993  -9704.21257432   -227.6622244 ]\n"
     ]
    }
   ],
   "source": [
    "#Checking efficiency of training model\n",
    "LR_Regression_score = Lin_reg.score(X_train, y_train)\n",
    "print('Regression score:', LR_Regression_score)\n",
    "print('\\n')\n",
    "#getting regression coefficients \n",
    "print('Regression intercept:', Lin_reg.intercept_)\n",
    "print('\\n')\n",
    "print('Regression coefficient; ', Lin_reg.coef_)"
   ]
  },
  {
   "cell_type": "code",
   "execution_count": 41,
   "id": "473a7740",
   "metadata": {},
   "outputs": [],
   "source": [
    "# Getting the y_train and y-test value\n",
    "y_train_pred= Lin_reg.predict(X_train)\n",
    "y_test_pred= Lin_reg.predict(X_test)"
   ]
  },
  {
   "cell_type": "code",
   "execution_count": 42,
   "id": "431a6b73",
   "metadata": {},
   "outputs": [
    {
     "name": "stdout",
     "output_type": "stream",
     "text": [
      "Testing Error\n",
      "MSE: 1367177725.0637841 \n",
      "RMSE: 36975.36646287342 \n",
      "MAE: 4008.57759190279 \n",
      "R2: 0.002444099196596272\n"
     ]
    }
   ],
   "source": [
    "# Evluation Matrix for Linear Regression (Test data)\n",
    "MSE = mean_squared_error(y_test, y_test_pred)\n",
    "RMSE = math.sqrt(mean_squared_error(y_test, y_test_pred))\n",
    "MAE = mean_absolute_error(y_test, y_test_pred)\n",
    "R2 = r2_score(y_test, y_test_pred)\n",
    "\n",
    "print('Testing Error\\nMSE:',MSE,'\\nRMSE:',RMSE,'\\nMAE:',MAE,'\\nR2:',R2)"
   ]
  },
  {
   "cell_type": "markdown",
   "id": "397c226b",
   "metadata": {},
   "source": [
    "## Cross Validation for Linear Regression"
   ]
  },
  {
   "cell_type": "code",
   "execution_count": 43,
   "id": "6a97a045",
   "metadata": {},
   "outputs": [
    {
     "name": "stdout",
     "output_type": "stream",
     "text": [
      "Evaluation Metrics (Linear Regression)\n",
      "Best Parameters: {'fit_intercept': True, 'normalize': True}\n",
      "Best MSE Score: 627530344.5188208\n",
      "MSE: 1367177725.0637841\n",
      "RMSE: 36975.36646287342\n",
      "MAE: 4008.57759190279\n",
      "R2: 0.002444099196596272\n"
     ]
    }
   ],
   "source": [
    "# Cross Validation for linear regression\n",
    "Lin_reg = LinearRegression()\n",
    "\n",
    "param_grid = { 'fit_intercept': [True, False], 'normalize': [True, False] }\n",
    "\n",
    "# Perform grid search cross-validation\n",
    "lin_grid_search = GridSearchCV(estimator=Lin_reg, param_grid=param_grid, cv=5, scoring='neg_mean_squared_error')\n",
    "lin_grid_search.fit(X_train,y_train)\n",
    "\n",
    "lin_best_params = lin_grid_search.best_params_\n",
    "lin_best_score = -lin_grid_search.best_score_\n",
    "\n",
    "lin_best_model = lin_grid_search.best_estimator_\n",
    "\n",
    "# Calculate evaluation metrics for linear regression\n",
    "lin_predictions = lin_best_model.predict(X_test)\n",
    "lin_mse = mean_squared_error(y_test, lin_predictions)\n",
    "lin_rmse = np.sqrt(lin_mse)\n",
    "lin_mae = mean_absolute_error(y_test, lin_predictions)\n",
    "lin_r2 = r2_score(y_test, lin_predictions)\n",
    "\n",
    "print(\"Evaluation Metrics (Linear Regression)\")\n",
    "print(\"Best Parameters:\", lin_best_params)\n",
    "print(\"Best MSE Score:\", lin_best_score)\n",
    "print(\"MSE:\", lin_mse)\n",
    "print(\"RMSE:\", lin_rmse)\n",
    "print(\"MAE:\", lin_mae)\n",
    "print(\"R2:\", lin_r2)"
   ]
  },
  {
   "cell_type": "code",
   "execution_count": 44,
   "id": "0ebc809a",
   "metadata": {},
   "outputs": [],
   "source": [
    "# storing the test set metrics value in a dataframe for later comparison\n",
    "dict1={'Model':'Linear regression',\n",
    "       'MAE':round((lin_mae),2),\n",
    "       'MSE':round((lin_mse),2),\n",
    "       'RMSE':round((lin_rmse),2),\n",
    "       'R2_score':round((lin_r2),2)\n",
    "       }\n",
    "test_data = test_data.append(dict1,ignore_index=True)"
   ]
  },
  {
   "cell_type": "markdown",
   "id": "9f13b065",
   "metadata": {},
   "source": [
    "## SVM"
   ]
  },
  {
   "cell_type": "code",
   "execution_count": 45,
   "id": "2f5bba60",
   "metadata": {},
   "outputs": [
    {
     "name": "stdout",
     "output_type": "stream",
     "text": [
      "MSE: 1375882218.986942\n",
      "RMSE: 37092.88636634984\n",
      "MAE: 2321.652584155491\n",
      "R2 Score: -0.003907100883224102\n"
     ]
    }
   ],
   "source": [
    "# SVM model training and prediction\n",
    "svm_model = SVR(kernel='linear')\n",
    "svm_model.fit(X_train, y_train)\n",
    "\n",
    "y_train_svm_pred= svm_model.predict(X_train)\n",
    "y_test_svm_pred = svm_model.predict(X_test)\n",
    "\n",
    "# Model evaluation\n",
    "MSE = mean_squared_error(y_test, y_test_svm_pred)\n",
    "RMSE = math.sqrt(mean_squared_error(y_test, y_test_svm_pred))\n",
    "MAE = mean_absolute_error(y_test, y_test_svm_pred)\n",
    "R2 = r2_score(y_test, y_test_svm_pred)\n",
    "\n",
    "print(\"MSE:\", MSE)\n",
    "print(\"RMSE:\", RMSE)\n",
    "print(\"MAE:\", MAE)\n",
    "print(\"R2 Score:\", R2)"
   ]
  },
  {
   "cell_type": "markdown",
   "id": "9bedf9e2",
   "metadata": {},
   "source": [
    "## Cross Validation for SVM"
   ]
  },
  {
   "cell_type": "code",
   "execution_count": 46,
   "id": "61d853e2",
   "metadata": {},
   "outputs": [
    {
     "name": "stdout",
     "output_type": "stream",
     "text": [
      "Evaluation Metrics (SVM Regression)\n",
      "Best Parameters: {'C': 10, 'kernel': 'poly'}\n",
      "Best MSE Score: 631708719.188815\n",
      "MSE: 1375781015.6742141\n",
      "RMSE: 37091.52215364333\n",
      "MAE: 2322.0885585594033\n",
      "R2: -0.003833258280362628\n"
     ]
    }
   ],
   "source": [
    "# Cross Validation for Support Vector Machine\n",
    "svm = SVR()\n",
    "\n",
    "svm_param_grid = { 'C': [0.1, 1, 10], 'kernel': ['linear', 'rbf', 'poly'] }\n",
    "\n",
    "# Perform grid search cross-validation\n",
    "svm_grid_search = GridSearchCV(estimator=svm, param_grid=svm_param_grid, cv=5, scoring='neg_mean_squared_error')\n",
    "svm_grid_search.fit(X_train,y_train)\n",
    "\n",
    "svm_best_params = svm_grid_search.best_params_\n",
    "svm_best_score = -svm_grid_search.best_score_\n",
    "\n",
    "# Calculate evaluation metrics for Support Vector Machine\n",
    "svm_best_model = svm_grid_search.best_estimator_\n",
    "svm_predictions = svm_best_model.predict(X_test)\n",
    "\n",
    "svm_mse = mean_squared_error(y_test, svm_predictions)\n",
    "svm_rmse = np.sqrt(svm_mse)\n",
    "svm_mae = mean_absolute_error(y_test, svm_predictions)\n",
    "svm_r2 = r2_score(y_test, svm_predictions)\n",
    "\n",
    "\n",
    "print(\"Evaluation Metrics (SVM Regression)\")\n",
    "print(\"Best Parameters:\", svm_best_params)\n",
    "print(\"Best MSE Score:\", svm_best_score)\n",
    "print(\"MSE:\", svm_mse)\n",
    "print(\"RMSE:\", svm_rmse)\n",
    "print(\"MAE:\", svm_mae)\n",
    "print(\"R2:\", svm_r2)"
   ]
  },
  {
   "cell_type": "code",
   "execution_count": 47,
   "id": "cfef4ead",
   "metadata": {},
   "outputs": [],
   "source": [
    "dict2={'Model':'SVM regression',\n",
    "       'MAE':round((svm_mae),2),\n",
    "       'MSE':round((svm_mse),2),\n",
    "       'RMSE':round((svm_rmse),2),\n",
    "       'R2_score':round((svm_r2),2)\n",
    "       }\n",
    "test_data = test_data.append(dict2,ignore_index=True)"
   ]
  },
  {
   "cell_type": "markdown",
   "id": "45adbf75",
   "metadata": {},
   "source": [
    "## Decision Tree Regressor"
   ]
  },
  {
   "cell_type": "code",
   "execution_count": 48,
   "id": "89329b3d",
   "metadata": {},
   "outputs": [
    {
     "name": "stdout",
     "output_type": "stream",
     "text": [
      "MSE: 4471008519.646174\n",
      "RMSE: 66865.60042089038\n",
      "MAE: 5840.446038251366\n",
      "R2 Score: -2.262253948079247\n"
     ]
    }
   ],
   "source": [
    "# DT model training and prediction\n",
    "DT_model = DecisionTreeRegressor()\n",
    "DT_model.fit(X_train, y_train)\n",
    "\n",
    "y_train_DT_pred= DT_model.predict(X_train)\n",
    "y_test_DT_pred = DT_model.predict(X_test)\n",
    "\n",
    "# Model evaluation\n",
    "MSE = mean_squared_error(y_test, y_test_DT_pred)\n",
    "RMSE = math.sqrt(mean_squared_error(y_test, y_test_DT_pred))\n",
    "MAE = mean_absolute_error(y_test, y_test_DT_pred)\n",
    "R2 = r2_score(y_test, y_test_DT_pred)\n",
    "\n",
    "\n",
    "print(\"MSE:\", MSE)\n",
    "print(\"RMSE:\", RMSE)\n",
    "print(\"MAE:\", MAE)\n",
    "print(\"R2 Score:\", R2)"
   ]
  },
  {
   "cell_type": "markdown",
   "id": "cab90186",
   "metadata": {},
   "source": [
    "## Cross Validation for Decision Tree"
   ]
  },
  {
   "cell_type": "code",
   "execution_count": 49,
   "id": "4d22b10a",
   "metadata": {},
   "outputs": [
    {
     "name": "stdout",
     "output_type": "stream",
     "text": [
      "Evaluation Metrics (DT Regression)\n",
      "Best Parameters: {'max_depth': 5, 'min_samples_leaf': 1, 'min_samples_split': 5}\n",
      "Best MSE Score: 585160297.4170223\n",
      "MSE: 1429657974.9622545\n",
      "RMSE: 37810.81822656387\n",
      "MAE: 3288.1328317828043\n",
      "R2: -0.043144371729510134\n"
     ]
    }
   ],
   "source": [
    "# # Cross Validation for Decision Tree\n",
    "DT_model = DecisionTreeRegressor()\n",
    "\n",
    "dt_param_grid = {\n",
    "    'max_depth': [None, 5, 10, 15],\n",
    "    'min_samples_split': [2, 5, 10],\n",
    "    'min_samples_leaf': [1, 2, 4] }\n",
    "\n",
    "\n",
    "dt_grid_search = GridSearchCV(estimator=DT_model, param_grid=dt_param_grid, cv=5, scoring='neg_mean_squared_error')\n",
    "dt_grid_search.fit(X_train, y_train)\n",
    "\n",
    "dt_best_params = dt_grid_search.best_params_\n",
    "dt_best_score = -dt_grid_search.best_score_\n",
    "\n",
    "# Calculate evaluation metrics for Decision Tree\n",
    "dt_best_model = dt_grid_search.best_estimator_\n",
    "dt_predictions = dt_best_model.predict(X_test)\n",
    "dt_mse = mean_squared_error(y_test, dt_predictions)\n",
    "dt_rmse = np.sqrt(dt_mse)\n",
    "dt_mae = mean_absolute_error(y_test, dt_predictions)\n",
    "dt_r2 = r2_score(y_test, dt_predictions)\n",
    "\n",
    "print(\"Evaluation Metrics (DT Regression)\")\n",
    "print(\"Best Parameters:\", dt_best_params)\n",
    "print(\"Best MSE Score:\", dt_best_score)\n",
    "print(\"MSE:\", dt_mse)\n",
    "print(\"RMSE:\", dt_rmse)\n",
    "print(\"MAE:\", dt_mae)\n",
    "print(\"R2:\", dt_r2)"
   ]
  },
  {
   "cell_type": "code",
   "execution_count": 50,
   "id": "c5dc8cc7",
   "metadata": {},
   "outputs": [],
   "source": [
    "dict3={'Model':'DT regression',\n",
    "       'MAE':round((dt_mae),2),\n",
    "       'MSE':round((dt_mse),2),\n",
    "       'RMSE':round((dt_rmse),2),\n",
    "       'R2_score':round((dt_r2),2)\n",
    "       }\n",
    "test_data = test_data.append(dict3,ignore_index=True)"
   ]
  },
  {
   "cell_type": "markdown",
   "id": "6611b96a",
   "metadata": {},
   "source": [
    "## Random Forest Regressor\n"
   ]
  },
  {
   "cell_type": "code",
   "execution_count": 51,
   "id": "af388d48",
   "metadata": {},
   "outputs": [
    {
     "name": "stdout",
     "output_type": "stream",
     "text": [
      "MSE: 1444454525.553348\n",
      "RMSE: 38005.98012883431\n",
      "MAE: 3991.4626059538623\n",
      "R2 Score: -0.05394061722348398\n"
     ]
    }
   ],
   "source": [
    "# RF model training and prediction\n",
    "RF_model = RandomForestRegressor(n_estimators = 200, max_depth = 25, min_samples_split=15,min_samples_leaf=2)\n",
    "RF_model.fit(X_train, y_train)\n",
    "\n",
    "y_train_RF_pred= RF_model.predict(X_train)\n",
    "y_test_RF_pred = RF_model.predict(X_test)\n",
    "\n",
    "# Model evaluation\n",
    "MSE = mean_squared_error(y_test, y_test_RF_pred)\n",
    "RMSE = math.sqrt(mean_squared_error(y_test, y_test_RF_pred))\n",
    "MAE = mean_absolute_error(y_test, y_test_RF_pred)\n",
    "R2 = r2_score(y_test, y_test_RF_pred)\n",
    "\n",
    "\n",
    "print(\"MSE:\", MSE)\n",
    "print(\"RMSE:\", RMSE)\n",
    "print(\"MAE:\", MAE)\n",
    "print(\"R2 Score:\", R2)"
   ]
  },
  {
   "cell_type": "markdown",
   "id": "297fb702",
   "metadata": {},
   "source": [
    "## Cross Validation for Random Forest"
   ]
  },
  {
   "cell_type": "code",
   "execution_count": 52,
   "id": "26d9a149",
   "metadata": {},
   "outputs": [
    {
     "name": "stdout",
     "output_type": "stream",
     "text": [
      "Evaluation Metrics(RF Regression)\n",
      "Best Parameters: {'max_depth': 10, 'min_samples_leaf': 1, 'min_samples_split': 2, 'n_estimators': 100}\n",
      "Best MSE Score: 478529641.0324438\n",
      "MSE: 1467372698.9786634\n",
      "RMSE: 38306.30103492979\n",
      "MAE: 3819.184141160928\n",
      "R2: -0.07066277317800163\n"
     ]
    }
   ],
   "source": [
    "# Cross Validation for Random Forest\n",
    "\n",
    "RF_model = RandomForestRegressor()\n",
    "\n",
    "rf_param_grid = {\n",
    "    'n_estimators': [100, 200],\n",
    "    'max_depth': [None, 5, 10],\n",
    "    'min_samples_split': [2, 5],\n",
    "    'min_samples_leaf': [1, 2]\n",
    "}\n",
    "rf_grid_search = GridSearchCV(estimator=RF_model, param_grid=rf_param_grid, cv=5, scoring='neg_mean_squared_error')\n",
    "rf_grid_search.fit(X_train, y_train)\n",
    "\n",
    "rf_best_params = rf_grid_search.best_params_\n",
    "rf_best_score = -rf_grid_search.best_score_\n",
    "\n",
    "\n",
    "# Calculate evaluation metrics for Random Forest\n",
    "rf_best_model = rf_grid_search.best_estimator_\n",
    "rf_predictions = rf_best_model.predict(X_test)\n",
    "rf_mse = mean_squared_error(y_test, rf_predictions)\n",
    "rf_rmse = np.sqrt(rf_mse)\n",
    "rf_mae = mean_absolute_error(y_test, rf_predictions)\n",
    "rf_r2 = r2_score(y_test, rf_predictions)\n",
    "\n",
    "print(\"Evaluation Metrics(RF Regression)\")\n",
    "print(\"Best Parameters:\", rf_best_params)\n",
    "print(\"Best MSE Score:\", rf_best_score)\n",
    "print(\"MSE:\", rf_mse)\n",
    "print(\"RMSE:\", rf_rmse)\n",
    "print(\"MAE:\", rf_mae)\n",
    "print(\"R2:\", rf_r2)"
   ]
  },
  {
   "cell_type": "code",
   "execution_count": 53,
   "id": "ac852e73",
   "metadata": {},
   "outputs": [],
   "source": [
    "dict4={'Model':'RF regression',\n",
    "       'MAE':round((rf_mae),2),\n",
    "       'MSE':round((rf_mse),2),\n",
    "       'RMSE':round((rf_rmse),2),\n",
    "       'R2_score':round((rf_r2),2)\n",
    "       }\n",
    "test_data = test_data.append(dict4,ignore_index=True)"
   ]
  },
  {
   "cell_type": "markdown",
   "id": "899ff008",
   "metadata": {},
   "source": [
    "## Artificial Neural Network"
   ]
  },
  {
   "cell_type": "code",
   "execution_count": 54,
   "id": "1902d5ce",
   "metadata": {},
   "outputs": [],
   "source": [
    "# Artificial Neural Network\n",
    "import keras\n",
    "from tensorflow.keras.optimizers import Adam\n",
    "from keras.layers import Dense\n",
    "from keras.models import Sequential\n",
    "from keras.layers import Dense\n",
    "from keras.metrics import RootMeanSquaredError, MeanAbsoluteError, MeanSquaredError"
   ]
  },
  {
   "cell_type": "code",
   "execution_count": 55,
   "id": "b4c194c0",
   "metadata": {},
   "outputs": [
    {
     "name": "stdout",
     "output_type": "stream",
     "text": [
      "Epoch 1/50\n",
      "293/293 [==============================] - 2s 4ms/step - loss: 749707712.0000 - root_mean_squared_error: 27380.7910 - mean_absolute_error: 1617.2994 - val_loss: 160278960.0000 - val_root_mean_squared_error: 12660.1328 - val_mean_absolute_error: 1218.5157\n",
      "Epoch 2/50\n",
      "293/293 [==============================] - 1s 3ms/step - loss: 749701568.0000 - root_mean_squared_error: 27380.6797 - mean_absolute_error: 1616.8574 - val_loss: 160271952.0000 - val_root_mean_squared_error: 12659.8555 - val_mean_absolute_error: 1218.7692\n",
      "Epoch 3/50\n",
      "293/293 [==============================] - 1s 3ms/step - loss: 749688832.0000 - root_mean_squared_error: 27380.4453 - mean_absolute_error: 1618.1189 - val_loss: 160259648.0000 - val_root_mean_squared_error: 12659.3701 - val_mean_absolute_error: 1221.0599\n",
      "Epoch 4/50\n",
      "293/293 [==============================] - 1s 3ms/step - loss: 749667968.0000 - root_mean_squared_error: 27380.0645 - mean_absolute_error: 1621.5841 - val_loss: 160240368.0000 - val_root_mean_squared_error: 12658.6084 - val_mean_absolute_error: 1225.9081\n",
      "Epoch 5/50\n",
      "293/293 [==============================] - 1s 2ms/step - loss: 749636928.0000 - root_mean_squared_error: 27379.4980 - mean_absolute_error: 1627.7198 - val_loss: 160213600.0000 - val_root_mean_squared_error: 12657.5508 - val_mean_absolute_error: 1233.4912\n",
      "Epoch 6/50\n",
      "293/293 [==============================] - 1s 3ms/step - loss: 749594752.0000 - root_mean_squared_error: 27378.7285 - mean_absolute_error: 1638.1111 - val_loss: 160180192.0000 - val_root_mean_squared_error: 12656.2314 - val_mean_absolute_error: 1243.6936\n",
      "Epoch 7/50\n",
      "293/293 [==============================] - 1s 2ms/step - loss: 749546048.0000 - root_mean_squared_error: 27377.8379 - mean_absolute_error: 1650.8674 - val_loss: 160141008.0000 - val_root_mean_squared_error: 12654.6836 - val_mean_absolute_error: 1256.3099\n",
      "Epoch 8/50\n",
      "293/293 [==============================] - 1s 3ms/step - loss: 749488384.0000 - root_mean_squared_error: 27376.7852 - mean_absolute_error: 1665.4528 - val_loss: 160095920.0000 - val_root_mean_squared_error: 12652.9014 - val_mean_absolute_error: 1271.3873\n",
      "Epoch 9/50\n",
      "293/293 [==============================] - 1s 2ms/step - loss: 749421824.0000 - root_mean_squared_error: 27375.5703 - mean_absolute_error: 1680.8147 - val_loss: 160044096.0000 - val_root_mean_squared_error: 12650.8535 - val_mean_absolute_error: 1289.1824\n",
      "Epoch 10/50\n",
      "293/293 [==============================] - 1s 2ms/step - loss: 749339776.0000 - root_mean_squared_error: 27374.0703 - mean_absolute_error: 1700.8490 - val_loss: 159978448.0000 - val_root_mean_squared_error: 12648.2588 - val_mean_absolute_error: 1312.4406\n",
      "Epoch 11/50\n",
      "293/293 [==============================] - 1s 2ms/step - loss: 749249280.0000 - root_mean_squared_error: 27372.4180 - mean_absolute_error: 1725.8513 - val_loss: 159910800.0000 - val_root_mean_squared_error: 12645.5840 - val_mean_absolute_error: 1337.2966\n",
      "Epoch 12/50\n",
      "293/293 [==============================] - 1s 2ms/step - loss: 749150144.0000 - root_mean_squared_error: 27370.6074 - mean_absolute_error: 1752.2535 - val_loss: 159837488.0000 - val_root_mean_squared_error: 12642.6855 - val_mean_absolute_error: 1365.2834\n",
      "Epoch 13/50\n",
      "293/293 [==============================] - 1s 2ms/step - loss: 749041664.0000 - root_mean_squared_error: 27368.6250 - mean_absolute_error: 1781.5753 - val_loss: 159760464.0000 - val_root_mean_squared_error: 12639.6387 - val_mean_absolute_error: 1395.8247\n",
      "Epoch 14/50\n",
      "293/293 [==============================] - 1s 2ms/step - loss: 748927296.0000 - root_mean_squared_error: 27366.5352 - mean_absolute_error: 1815.8529 - val_loss: 159679536.0000 - val_root_mean_squared_error: 12636.4365 - val_mean_absolute_error: 1429.1910\n",
      "Epoch 15/50\n",
      "293/293 [==============================] - 1s 3ms/step - loss: 748814912.0000 - root_mean_squared_error: 27364.4824 - mean_absolute_error: 1852.8157 - val_loss: 159600864.0000 - val_root_mean_squared_error: 12633.3232 - val_mean_absolute_error: 1462.9463\n",
      "Epoch 16/50\n",
      "293/293 [==============================] - 1s 3ms/step - loss: 748701696.0000 - root_mean_squared_error: 27362.4141 - mean_absolute_error: 1890.8048 - val_loss: 159523616.0000 - val_root_mean_squared_error: 12630.2656 - val_mean_absolute_error: 1497.5094\n",
      "Epoch 17/50\n",
      "293/293 [==============================] - 1s 3ms/step - loss: 748578624.0000 - root_mean_squared_error: 27360.1641 - mean_absolute_error: 1919.0439 - val_loss: 159437952.0000 - val_root_mean_squared_error: 12626.8740 - val_mean_absolute_error: 1537.6936\n",
      "Epoch 18/50\n",
      "293/293 [==============================] - 1s 2ms/step - loss: 748450752.0000 - root_mean_squared_error: 27357.8281 - mean_absolute_error: 1959.5925 - val_loss: 159355824.0000 - val_root_mean_squared_error: 12623.6221 - val_mean_absolute_error: 1578.3871\n",
      "Epoch 19/50\n",
      "293/293 [==============================] - 1s 3ms/step - loss: 748327168.0000 - root_mean_squared_error: 27355.5684 - mean_absolute_error: 2004.2596 - val_loss: 159277936.0000 - val_root_mean_squared_error: 12620.5361 - val_mean_absolute_error: 1619.2988\n",
      "Epoch 20/50\n",
      "293/293 [==============================] - 1s 3ms/step - loss: 748209216.0000 - root_mean_squared_error: 27353.4141 - mean_absolute_error: 2049.0925 - val_loss: 159205616.0000 - val_root_mean_squared_error: 12617.6709 - val_mean_absolute_error: 1659.5695\n",
      "Epoch 21/50\n",
      "293/293 [==============================] - 1s 3ms/step - loss: 748098368.0000 - root_mean_squared_error: 27351.3867 - mean_absolute_error: 2090.2883 - val_loss: 159138064.0000 - val_root_mean_squared_error: 12614.9932 - val_mean_absolute_error: 1699.5461\n",
      "Epoch 22/50\n",
      "293/293 [==============================] - 1s 3ms/step - loss: 747987520.0000 - root_mean_squared_error: 27349.3613 - mean_absolute_error: 2125.9421 - val_loss: 159073744.0000 - val_root_mean_squared_error: 12612.4443 - val_mean_absolute_error: 1740.2076\n",
      "Epoch 23/50\n",
      "293/293 [==============================] - 1s 3ms/step - loss: 747880000.0000 - root_mean_squared_error: 27347.3945 - mean_absolute_error: 2169.9924 - val_loss: 159011184.0000 - val_root_mean_squared_error: 12609.9639 - val_mean_absolute_error: 1782.5609\n",
      "Epoch 24/50\n",
      "293/293 [==============================] - 1s 3ms/step - loss: 747780672.0000 - root_mean_squared_error: 27345.5781 - mean_absolute_error: 2215.3364 - val_loss: 158956176.0000 - val_root_mean_squared_error: 12607.7822 - val_mean_absolute_error: 1822.7070\n",
      "Epoch 25/50\n",
      "293/293 [==============================] - 1s 3ms/step - loss: 747681728.0000 - root_mean_squared_error: 27343.7695 - mean_absolute_error: 2250.7776 - val_loss: 158905536.0000 - val_root_mean_squared_error: 12605.7734 - val_mean_absolute_error: 1862.5809\n",
      "Epoch 26/50\n",
      "293/293 [==============================] - 1s 3ms/step - loss: 747589376.0000 - root_mean_squared_error: 27342.0801 - mean_absolute_error: 2298.3611 - val_loss: 158857056.0000 - val_root_mean_squared_error: 12603.8506 - val_mean_absolute_error: 1904.1309\n",
      "Epoch 27/50\n",
      "293/293 [==============================] - 1s 3ms/step - loss: 747504192.0000 - root_mean_squared_error: 27340.5234 - mean_absolute_error: 2340.8987 - val_loss: 158814528.0000 - val_root_mean_squared_error: 12602.1641 - val_mean_absolute_error: 1943.9387\n",
      "Epoch 28/50\n",
      "293/293 [==============================] - 1s 3ms/step - loss: 747420992.0000 - root_mean_squared_error: 27339.0020 - mean_absolute_error: 2378.4211 - val_loss: 158777312.0000 - val_root_mean_squared_error: 12600.6865 - val_mean_absolute_error: 1982.3882\n",
      "Epoch 29/50\n",
      "293/293 [==============================] - 1s 3ms/step - loss: 747343744.0000 - root_mean_squared_error: 27337.5879 - mean_absolute_error: 2415.2146 - val_loss: 158743184.0000 - val_root_mean_squared_error: 12599.3330 - val_mean_absolute_error: 2021.4686\n",
      "Epoch 30/50\n",
      "293/293 [==============================] - 1s 3ms/step - loss: 747271488.0000 - root_mean_squared_error: 27336.2676 - mean_absolute_error: 2455.7947 - val_loss: 158714608.0000 - val_root_mean_squared_error: 12598.1982 - val_mean_absolute_error: 2057.8018\n",
      "Epoch 31/50\n",
      "293/293 [==============================] - 1s 3ms/step - loss: 747208896.0000 - root_mean_squared_error: 27335.1211 - mean_absolute_error: 2493.1968 - val_loss: 158689440.0000 - val_root_mean_squared_error: 12597.1992 - val_mean_absolute_error: 2093.9465\n"
     ]
    },
    {
     "name": "stdout",
     "output_type": "stream",
     "text": [
      "Epoch 32/50\n",
      "293/293 [==============================] - 1s 2ms/step - loss: 747145920.0000 - root_mean_squared_error: 27333.9707 - mean_absolute_error: 2523.0046 - val_loss: 158668416.0000 - val_root_mean_squared_error: 12596.3652 - val_mean_absolute_error: 2128.1030\n",
      "Epoch 33/50\n",
      "293/293 [==============================] - 1s 2ms/step - loss: 747090368.0000 - root_mean_squared_error: 27332.9531 - mean_absolute_error: 2560.1260 - val_loss: 158650896.0000 - val_root_mean_squared_error: 12595.6699 - val_mean_absolute_error: 2161.0264\n",
      "Epoch 34/50\n",
      "293/293 [==============================] - 1s 2ms/step - loss: 747039424.0000 - root_mean_squared_error: 27332.0215 - mean_absolute_error: 2595.1797 - val_loss: 158635936.0000 - val_root_mean_squared_error: 12595.0762 - val_mean_absolute_error: 2193.5857\n",
      "Epoch 35/50\n",
      "293/293 [==============================] - 1s 2ms/step - loss: 746992704.0000 - root_mean_squared_error: 27331.1680 - mean_absolute_error: 2620.1489 - val_loss: 158624960.0000 - val_root_mean_squared_error: 12594.6396 - val_mean_absolute_error: 2221.1812\n",
      "Epoch 36/50\n",
      "293/293 [==============================] - 1s 3ms/step - loss: 746952256.0000 - root_mean_squared_error: 27330.4277 - mean_absolute_error: 2659.7712 - val_loss: 158614784.0000 - val_root_mean_squared_error: 12594.2363 - val_mean_absolute_error: 2253.2258\n",
      "Epoch 37/50\n",
      "293/293 [==============================] - 1s 3ms/step - loss: 746911872.0000 - root_mean_squared_error: 27329.6875 - mean_absolute_error: 2687.5315 - val_loss: 158607600.0000 - val_root_mean_squared_error: 12593.9512 - val_mean_absolute_error: 2281.6021\n",
      "Epoch 38/50\n",
      "293/293 [==============================] - 1s 3ms/step - loss: 746874944.0000 - root_mean_squared_error: 27329.0137 - mean_absolute_error: 2715.2563 - val_loss: 158602352.0000 - val_root_mean_squared_error: 12593.7422 - val_mean_absolute_error: 2308.3113\n",
      "Epoch 39/50\n",
      "293/293 [==============================] - 1s 2ms/step - loss: 746843904.0000 - root_mean_squared_error: 27328.4453 - mean_absolute_error: 2734.5271 - val_loss: 158598848.0000 - val_root_mean_squared_error: 12593.6035 - val_mean_absolute_error: 2335.2124\n",
      "Epoch 40/50\n",
      "293/293 [==============================] - 1s 2ms/step - loss: 746814144.0000 - root_mean_squared_error: 27327.9004 - mean_absolute_error: 2768.9229 - val_loss: 158596720.0000 - val_root_mean_squared_error: 12593.5186 - val_mean_absolute_error: 2357.5349\n",
      "Epoch 41/50\n",
      "293/293 [==============================] - 1s 2ms/step - loss: 746785920.0000 - root_mean_squared_error: 27327.3848 - mean_absolute_error: 2789.8521 - val_loss: 158595824.0000 - val_root_mean_squared_error: 12593.4834 - val_mean_absolute_error: 2379.8853\n",
      "Epoch 42/50\n",
      "293/293 [==============================] - 1s 2ms/step - loss: 746762816.0000 - root_mean_squared_error: 27326.9609 - mean_absolute_error: 2807.7957 - val_loss: 158596032.0000 - val_root_mean_squared_error: 12593.4912 - val_mean_absolute_error: 2401.5010\n",
      "Epoch 43/50\n",
      "293/293 [==============================] - 1s 2ms/step - loss: 746744448.0000 - root_mean_squared_error: 27326.6250 - mean_absolute_error: 2832.8101 - val_loss: 158596976.0000 - val_root_mean_squared_error: 12593.5293 - val_mean_absolute_error: 2421.2212\n",
      "Epoch 44/50\n",
      "293/293 [==============================] - 1s 2ms/step - loss: 746720064.0000 - root_mean_squared_error: 27326.1797 - mean_absolute_error: 2843.4990 - val_loss: 158598288.0000 - val_root_mean_squared_error: 12593.5811 - val_mean_absolute_error: 2439.5601\n",
      "Epoch 45/50\n",
      "293/293 [==============================] - 1s 3ms/step - loss: 746698944.0000 - root_mean_squared_error: 27325.7930 - mean_absolute_error: 2862.5059 - val_loss: 158600832.0000 - val_root_mean_squared_error: 12593.6826 - val_mean_absolute_error: 2459.3750\n",
      "Epoch 46/50\n",
      "293/293 [==============================] - 1s 3ms/step - loss: 746681280.0000 - root_mean_squared_error: 27325.4688 - mean_absolute_error: 2892.3159 - val_loss: 158603264.0000 - val_root_mean_squared_error: 12593.7783 - val_mean_absolute_error: 2476.1750\n",
      "Epoch 47/50\n",
      "293/293 [==============================] - 1s 3ms/step - loss: 746669376.0000 - root_mean_squared_error: 27325.2520 - mean_absolute_error: 2901.8623 - val_loss: 158605360.0000 - val_root_mean_squared_error: 12593.8623 - val_mean_absolute_error: 2489.8911\n",
      "Epoch 48/50\n",
      "293/293 [==============================] - 1s 3ms/step - loss: 746652672.0000 - root_mean_squared_error: 27324.9453 - mean_absolute_error: 2915.9812 - val_loss: 158608128.0000 - val_root_mean_squared_error: 12593.9717 - val_mean_absolute_error: 2504.5911\n",
      "Epoch 49/50\n",
      "293/293 [==============================] - 1s 3ms/step - loss: 746638080.0000 - root_mean_squared_error: 27324.6797 - mean_absolute_error: 2924.4983 - val_loss: 158611472.0000 - val_root_mean_squared_error: 12594.1045 - val_mean_absolute_error: 2519.2239\n",
      "Epoch 50/50\n",
      "293/293 [==============================] - 1s 3ms/step - loss: 746626176.0000 - root_mean_squared_error: 27324.4609 - mean_absolute_error: 2953.3186 - val_loss: 158614144.0000 - val_root_mean_squared_error: 12594.2109 - val_mean_absolute_error: 2531.6982\n",
      "92/92 [==============================] - 0s 2ms/step - loss: 1370049536.0000 - root_mean_squared_error: 37014.1797 - mean_absolute_error: 3647.3521\n",
      "Test Loss: 1370049536.0\n",
      "Test RMSE: 37014.1796875\n",
      "Test MAE: 3647.35205078125\n"
     ]
    }
   ],
   "source": [
    "# Build the Artificial Neural Network\n",
    "ann = keras.models.Sequential([\n",
    "    Dense(6, activation=\"relu\", \n",
    "    input_shape=X_train.shape[1:]), \n",
    "    Dense(6,activation=\"relu\"),Dense(1)])\n",
    "\n",
    "\n",
    "# Compile the model\n",
    "ann.compile(optimizer=Adam(learning_rate=0.001),\n",
    "              loss='mean_squared_error',\n",
    "              metrics=[RootMeanSquaredError(), MeanAbsoluteError()])\n",
    "\n",
    "# Train the model\n",
    "history = ann.fit(X_train, y_train, epochs=50, batch_size=32, validation_split=0.2)\n",
    "\n",
    "# Evaluate the model\n",
    "loss, rmse, mae = ann.evaluate(X_test, y_test)\n",
    "print(\"Test Loss:\", loss)\n",
    "print(\"Test RMSE:\", rmse)\n",
    "print(\"Test MAE:\", mae)\n",
    "\n"
   ]
  },
  {
   "cell_type": "markdown",
   "id": "c262d195",
   "metadata": {},
   "source": [
    "## Cross Validation For ANN"
   ]
  },
  {
   "cell_type": "code",
   "execution_count": 56,
   "id": "4d05345c",
   "metadata": {},
   "outputs": [],
   "source": [
    "from tensorflow.keras.wrappers.scikit_learn import KerasRegressor"
   ]
  },
  {
   "cell_type": "code",
   "execution_count": 58,
   "id": "1a98044b",
   "metadata": {},
   "outputs": [
    {
     "name": "stdout",
     "output_type": "stream",
     "text": [
      "Epoch 1/10\n",
      "244/244 [==============================] - 1s 3ms/step - loss: 452963776.0000\n",
      "Epoch 2/10\n",
      "244/244 [==============================] - 1s 3ms/step - loss: 452896736.0000\n",
      "Epoch 3/10\n",
      "244/244 [==============================] - 1s 3ms/step - loss: 452645856.0000\n",
      "Epoch 4/10\n",
      "244/244 [==============================] - 1s 3ms/step - loss: 452242592.0000\n",
      "Epoch 5/10\n",
      "244/244 [==============================] - 1s 3ms/step - loss: 451785312.0000\n",
      "Epoch 6/10\n",
      "244/244 [==============================] - 1s 3ms/step - loss: 451376256.0000\n",
      "Epoch 7/10\n",
      "244/244 [==============================] - 1s 3ms/step - loss: 451061024.0000\n",
      "Epoch 8/10\n",
      "244/244 [==============================] - 1s 3ms/step - loss: 450832128.0000\n",
      "Epoch 9/10\n",
      "244/244 [==============================] - 1s 3ms/step - loss: 450678176.0000\n",
      "Epoch 10/10\n",
      "244/244 [==============================] - 1s 2ms/step - loss: 450573856.0000\n",
      "Epoch 1/10\n",
      "244/244 [==============================] - 1s 2ms/step - loss: 560516992.0000\n",
      "Epoch 2/10\n",
      "244/244 [==============================] - 1s 2ms/step - loss: 560365888.0000\n",
      "Epoch 3/10\n",
      "244/244 [==============================] - 1s 2ms/step - loss: 560027456.0000\n",
      "Epoch 4/10\n",
      "244/244 [==============================] - 1s 2ms/step - loss: 559603904.0000\n",
      "Epoch 5/10\n",
      "244/244 [==============================] - 1s 2ms/step - loss: 559178304.0000\n",
      "Epoch 6/10\n",
      "244/244 [==============================] - 1s 2ms/step - loss: 558839680.0000\n",
      "Epoch 7/10\n",
      "244/244 [==============================] - 1s 2ms/step - loss: 558608832.0000\n",
      "Epoch 8/10\n",
      "244/244 [==============================] - 1s 2ms/step - loss: 558467712.0000\n",
      "Epoch 9/10\n",
      "244/244 [==============================] - 1s 2ms/step - loss: 558375424.0000\n",
      "Epoch 10/10\n",
      "244/244 [==============================] - 1s 2ms/step - loss: 558323520.0000\n",
      "Epoch 1/10\n",
      "244/244 [==============================] - 1s 2ms/step - loss: 881875776.0000\n",
      "Epoch 2/10\n",
      "244/244 [==============================] - 1s 2ms/step - loss: 881828992.0000\n",
      "Epoch 3/10\n",
      "244/244 [==============================] - 1s 2ms/step - loss: 881661504.0000\n",
      "Epoch 4/10\n",
      "244/244 [==============================] - 1s 2ms/step - loss: 881323008.0000\n",
      "Epoch 5/10\n",
      "244/244 [==============================] - 0s 2ms/step - loss: 880859328.0000\n",
      "Epoch 6/10\n",
      "244/244 [==============================] - 0s 2ms/step - loss: 880353920.0000\n",
      "Epoch 7/10\n",
      "244/244 [==============================] - 0s 2ms/step - loss: 879847552.0000\n",
      "Epoch 8/10\n",
      "244/244 [==============================] - 1s 2ms/step - loss: 879389888.0000\n",
      "Epoch 9/10\n",
      "244/244 [==============================] - 1s 2ms/step - loss: 879046016.0000\n",
      "Epoch 10/10\n",
      "244/244 [==============================] - 1s 2ms/step - loss: 878788736.0000\n",
      "Epoch 1/10\n",
      "244/244 [==============================] - 1s 2ms/step - loss: 452964992.0000\n",
      "Epoch 2/10\n",
      "244/244 [==============================] - 1s 2ms/step - loss: 452848448.0000\n",
      "Epoch 3/10\n",
      "244/244 [==============================] - 1s 2ms/step - loss: 452552672.0000\n",
      "Epoch 4/10\n",
      "244/244 [==============================] - 1s 2ms/step - loss: 452083328.0000\n",
      "Epoch 5/10\n",
      "244/244 [==============================] - 1s 2ms/step - loss: 451561632.0000\n",
      "Epoch 6/10\n",
      "244/244 [==============================] - 1s 2ms/step - loss: 451150080.0000\n",
      "Epoch 7/10\n",
      "244/244 [==============================] - 1s 2ms/step - loss: 450874784.0000\n",
      "Epoch 8/10\n",
      "244/244 [==============================] - 1s 2ms/step - loss: 450692992.0000\n",
      "Epoch 9/10\n",
      "244/244 [==============================] - 1s 2ms/step - loss: 450578400.0000\n",
      "Epoch 10/10\n",
      "244/244 [==============================] - 1s 2ms/step - loss: 450497088.0000\n",
      "Epoch 1/10\n",
      "244/244 [==============================] - 1s 2ms/step - loss: 560510976.0000\n",
      "Epoch 2/10\n",
      "244/244 [==============================] - 1s 2ms/step - loss: 560413248.0000\n",
      "Epoch 3/10\n",
      "244/244 [==============================] - 1s 2ms/step - loss: 560200896.0000\n",
      "Epoch 4/10\n",
      "244/244 [==============================] - 1s 2ms/step - loss: 559844480.0000\n",
      "Epoch 5/10\n",
      "244/244 [==============================] - 1s 2ms/step - loss: 559358080.0000\n",
      "Epoch 6/10\n",
      "244/244 [==============================] - 1s 2ms/step - loss: 558964864.0000\n",
      "Epoch 7/10\n",
      "244/244 [==============================] - 1s 2ms/step - loss: 558701760.0000\n",
      "Epoch 8/10\n",
      "244/244 [==============================] - 1s 2ms/step - loss: 558534080.0000\n",
      "Epoch 9/10\n",
      "244/244 [==============================] - 1s 2ms/step - loss: 558426240.0000\n",
      "Epoch 10/10\n",
      "244/244 [==============================] - 1s 2ms/step - loss: 558358848.0000\n",
      "Epoch 1/10\n",
      "244/244 [==============================] - 1s 2ms/step - loss: 881868672.0000\n",
      "Epoch 2/10\n",
      "244/244 [==============================] - 1s 2ms/step - loss: 881725504.0000\n",
      "Epoch 3/10\n",
      "244/244 [==============================] - 1s 2ms/step - loss: 881315648.0000\n",
      "Epoch 4/10\n",
      "244/244 [==============================] - 1s 2ms/step - loss: 880743872.0000\n",
      "Epoch 5/10\n",
      "244/244 [==============================] - 0s 2ms/step - loss: 880142720.0000\n",
      "Epoch 6/10\n",
      "244/244 [==============================] - 0s 2ms/step - loss: 879545536.0000\n",
      "Epoch 7/10\n",
      "244/244 [==============================] - 1s 2ms/step - loss: 879052608.0000\n",
      "Epoch 8/10\n",
      "244/244 [==============================] - 1s 2ms/step - loss: 878738560.0000\n",
      "Epoch 9/10\n",
      "244/244 [==============================] - 1s 3ms/step - loss: 878513600.0000\n",
      "Epoch 10/10\n",
      "244/244 [==============================] - 1s 3ms/step - loss: 878364352.0000\n",
      "Epoch 1/20\n",
      "244/244 [==============================] - 1s 2ms/step - loss: 452958528.0000\n",
      "Epoch 2/20\n",
      "244/244 [==============================] - 1s 3ms/step - loss: 452873824.0000\n",
      "Epoch 3/20\n",
      "244/244 [==============================] - 1s 2ms/step - loss: 452613536.0000\n",
      "Epoch 4/20\n",
      "244/244 [==============================] - 1s 2ms/step - loss: 452227360.0000\n",
      "Epoch 5/20\n",
      "244/244 [==============================] - 1s 2ms/step - loss: 451740128.0000\n",
      "Epoch 6/20\n",
      "244/244 [==============================] - 1s 2ms/step - loss: 451291584.0000\n",
      "Epoch 7/20\n",
      "244/244 [==============================] - 1s 2ms/step - loss: 450959552.0000\n",
      "Epoch 8/20\n",
      "244/244 [==============================] - 1s 2ms/step - loss: 450749600.0000\n",
      "Epoch 9/20\n",
      "244/244 [==============================] - 1s 2ms/step - loss: 450620800.0000\n",
      "Epoch 10/20\n",
      "244/244 [==============================] - 1s 2ms/step - loss: 450519840.0000\n",
      "Epoch 11/20\n",
      "244/244 [==============================] - 1s 2ms/step - loss: 450467488.0000\n",
      "Epoch 12/20\n",
      "244/244 [==============================] - 1s 2ms/step - loss: 450424544.0000\n",
      "Epoch 13/20\n",
      "244/244 [==============================] - 1s 2ms/step - loss: 450381920.0000\n",
      "Epoch 14/20\n",
      "244/244 [==============================] - 1s 2ms/step - loss: 450352704.0000\n",
      "Epoch 15/20\n",
      "244/244 [==============================] - 1s 2ms/step - loss: 450326784.0000\n",
      "Epoch 16/20\n",
      "244/244 [==============================] - 1s 2ms/step - loss: 450300800.0000\n",
      "Epoch 17/20\n",
      "244/244 [==============================] - 1s 3ms/step - loss: 450265664.0000\n",
      "Epoch 18/20\n",
      "244/244 [==============================] - 1s 2ms/step - loss: 450245248.0000\n",
      "Epoch 19/20\n",
      "244/244 [==============================] - 1s 2ms/step - loss: 450221440.0000\n",
      "Epoch 20/20\n",
      "244/244 [==============================] - 1s 2ms/step - loss: 450189760.0000\n",
      "Epoch 1/20\n",
      "244/244 [==============================] - 1s 2ms/step - loss: 560521664.0000\n",
      "Epoch 2/20\n",
      "244/244 [==============================] - 1s 2ms/step - loss: 560421824.0000\n",
      "Epoch 3/20\n",
      "244/244 [==============================] - 1s 2ms/step - loss: 560142720.0000\n",
      "Epoch 4/20\n",
      "244/244 [==============================] - 1s 2ms/step - loss: 559733248.0000\n",
      "Epoch 5/20\n",
      "244/244 [==============================] - 1s 2ms/step - loss: 559326656.0000\n",
      "Epoch 6/20\n",
      "244/244 [==============================] - 1s 2ms/step - loss: 558990912.0000\n",
      "Epoch 7/20\n",
      "244/244 [==============================] - 1s 2ms/step - loss: 558741376.0000\n",
      "Epoch 8/20\n",
      "244/244 [==============================] - 1s 2ms/step - loss: 558579648.0000\n",
      "Epoch 9/20\n",
      "244/244 [==============================] - 1s 2ms/step - loss: 558463168.0000\n",
      "Epoch 10/20\n",
      "244/244 [==============================] - 1s 2ms/step - loss: 558387712.0000\n",
      "Epoch 11/20\n",
      "244/244 [==============================] - 1s 2ms/step - loss: 558333248.0000\n",
      "Epoch 12/20\n"
     ]
    },
    {
     "name": "stdout",
     "output_type": "stream",
     "text": [
      "244/244 [==============================] - 1s 2ms/step - loss: 558295296.0000\n",
      "Epoch 13/20\n",
      "244/244 [==============================] - 0s 2ms/step - loss: 558266688.0000\n",
      "Epoch 14/20\n",
      "244/244 [==============================] - 0s 2ms/step - loss: 558234112.0000\n",
      "Epoch 15/20\n",
      "244/244 [==============================] - 0s 2ms/step - loss: 558214720.0000\n",
      "Epoch 16/20\n",
      "244/244 [==============================] - 0s 2ms/step - loss: 558198400.0000\n",
      "Epoch 17/20\n",
      "244/244 [==============================] - 0s 2ms/step - loss: 558177344.0000\n",
      "Epoch 18/20\n",
      "244/244 [==============================] - 0s 2ms/step - loss: 558154112.0000\n",
      "Epoch 19/20\n",
      "244/244 [==============================] - 0s 2ms/step - loss: 558141760.0000\n",
      "Epoch 20/20\n",
      "244/244 [==============================] - 0s 2ms/step - loss: 558116672.0000\n",
      "Epoch 1/20\n",
      "244/244 [==============================] - 1s 2ms/step - loss: 881872192.0000\n",
      "Epoch 2/20\n",
      "244/244 [==============================] - 0s 2ms/step - loss: 881830912.0000\n",
      "Epoch 3/20\n",
      "244/244 [==============================] - 0s 2ms/step - loss: 881718080.0000\n",
      "Epoch 4/20\n",
      "244/244 [==============================] - 0s 2ms/step - loss: 881509888.0000\n",
      "Epoch 5/20\n",
      "244/244 [==============================] - 0s 2ms/step - loss: 881191424.0000\n",
      "Epoch 6/20\n",
      "244/244 [==============================] - 0s 2ms/step - loss: 880817984.0000\n",
      "Epoch 7/20\n",
      "244/244 [==============================] - 0s 2ms/step - loss: 880404608.0000\n",
      "Epoch 8/20\n",
      "244/244 [==============================] - 0s 2ms/step - loss: 879992384.0000\n",
      "Epoch 9/20\n",
      "244/244 [==============================] - 0s 2ms/step - loss: 879626304.0000\n",
      "Epoch 10/20\n",
      "244/244 [==============================] - 1s 2ms/step - loss: 879330368.0000\n",
      "Epoch 11/20\n",
      "244/244 [==============================] - 0s 2ms/step - loss: 879065152.0000\n",
      "Epoch 12/20\n",
      "244/244 [==============================] - 0s 2ms/step - loss: 878850432.0000\n",
      "Epoch 13/20\n",
      "244/244 [==============================] - 0s 2ms/step - loss: 878673152.0000\n",
      "Epoch 14/20\n",
      "244/244 [==============================] - 0s 2ms/step - loss: 878531648.0000\n",
      "Epoch 15/20\n",
      "244/244 [==============================] - 0s 2ms/step - loss: 878422400.0000\n",
      "Epoch 16/20\n",
      "244/244 [==============================] - 0s 2ms/step - loss: 878333760.0000\n",
      "Epoch 17/20\n",
      "244/244 [==============================] - 0s 2ms/step - loss: 878257728.0000\n",
      "Epoch 18/20\n",
      "244/244 [==============================] - 0s 2ms/step - loss: 878205696.0000\n",
      "Epoch 19/20\n",
      "244/244 [==============================] - 0s 2ms/step - loss: 878148736.0000\n",
      "Epoch 20/20\n",
      "244/244 [==============================] - 0s 2ms/step - loss: 878108736.0000\n",
      "Epoch 1/20\n",
      "244/244 [==============================] - 1s 2ms/step - loss: 452961888.0000\n",
      "Epoch 2/20\n",
      "244/244 [==============================] - 1s 2ms/step - loss: 452844384.0000\n",
      "Epoch 3/20\n",
      "244/244 [==============================] - 0s 2ms/step - loss: 452499360.0000\n",
      "Epoch 4/20\n",
      "244/244 [==============================] - 1s 2ms/step - loss: 452041344.0000\n",
      "Epoch 5/20\n",
      "244/244 [==============================] - 0s 2ms/step - loss: 451534848.0000\n",
      "Epoch 6/20\n",
      "244/244 [==============================] - 1s 2ms/step - loss: 451116160.0000\n",
      "Epoch 7/20\n",
      "244/244 [==============================] - 1s 2ms/step - loss: 450846848.0000\n",
      "Epoch 8/20\n",
      "244/244 [==============================] - 0s 2ms/step - loss: 450661920.0000\n",
      "Epoch 9/20\n",
      "244/244 [==============================] - 0s 2ms/step - loss: 450545440.0000\n",
      "Epoch 10/20\n",
      "244/244 [==============================] - 0s 2ms/step - loss: 450469728.0000\n",
      "Epoch 11/20\n",
      "244/244 [==============================] - 0s 2ms/step - loss: 450419456.0000\n",
      "Epoch 12/20\n",
      "244/244 [==============================] - 0s 2ms/step - loss: 450376832.0000\n",
      "Epoch 13/20\n",
      "244/244 [==============================] - 0s 2ms/step - loss: 450349920.0000\n",
      "Epoch 14/20\n",
      "244/244 [==============================] - 0s 2ms/step - loss: 450323520.0000\n",
      "Epoch 15/20\n",
      "244/244 [==============================] - 0s 2ms/step - loss: 450287584.0000\n",
      "Epoch 16/20\n",
      "244/244 [==============================] - 0s 2ms/step - loss: 450262144.0000\n",
      "Epoch 17/20\n",
      "244/244 [==============================] - 0s 2ms/step - loss: 450237696.0000\n",
      "Epoch 18/20\n",
      "244/244 [==============================] - 0s 2ms/step - loss: 450215712.0000\n",
      "Epoch 19/20\n",
      "244/244 [==============================] - 0s 2ms/step - loss: 450185824.0000\n",
      "Epoch 20/20\n",
      "244/244 [==============================] - 0s 2ms/step - loss: 450158720.0000\n",
      "Epoch 1/20\n",
      "244/244 [==============================] - 1s 2ms/step - loss: 560516864.0000\n",
      "Epoch 2/20\n",
      "244/244 [==============================] - 1s 2ms/step - loss: 560428288.0000\n",
      "Epoch 3/20\n",
      "244/244 [==============================] - 1s 2ms/step - loss: 560212928.0000\n",
      "Epoch 4/20\n",
      "244/244 [==============================] - 1s 2ms/step - loss: 559899968.0000\n",
      "Epoch 5/20\n",
      "244/244 [==============================] - 0s 2ms/step - loss: 559536000.0000\n",
      "Epoch 6/20\n",
      "244/244 [==============================] - 1s 2ms/step - loss: 559170688.0000\n",
      "Epoch 7/20\n",
      "244/244 [==============================] - 1s 2ms/step - loss: 558864768.0000\n",
      "Epoch 8/20\n",
      "244/244 [==============================] - 1s 2ms/step - loss: 558640576.0000\n",
      "Epoch 9/20\n",
      "244/244 [==============================] - 1s 2ms/step - loss: 558496576.0000\n",
      "Epoch 10/20\n",
      "244/244 [==============================] - 0s 2ms/step - loss: 558398976.0000\n",
      "Epoch 11/20\n",
      "244/244 [==============================] - 1s 2ms/step - loss: 558333248.0000\n",
      "Epoch 12/20\n",
      "244/244 [==============================] - 0s 2ms/step - loss: 558281536.0000\n",
      "Epoch 13/20\n",
      "244/244 [==============================] - 1s 2ms/step - loss: 558249344.0000\n",
      "Epoch 14/20\n",
      "244/244 [==============================] - 0s 2ms/step - loss: 558205248.0000\n",
      "Epoch 15/20\n",
      "244/244 [==============================] - 1s 2ms/step - loss: 558176128.0000\n",
      "Epoch 16/20\n",
      "244/244 [==============================] - 1s 2ms/step - loss: 558140288.0000\n",
      "Epoch 17/20\n",
      "244/244 [==============================] - 1s 2ms/step - loss: 558117184.0000\n",
      "Epoch 18/20\n",
      "244/244 [==============================] - 1s 2ms/step - loss: 558101952.0000\n",
      "Epoch 19/20\n",
      "244/244 [==============================] - 1s 2ms/step - loss: 558063040.0000\n",
      "Epoch 20/20\n",
      "244/244 [==============================] - 1s 2ms/step - loss: 558042368.0000\n",
      "Epoch 1/20\n",
      "244/244 [==============================] - 1s 2ms/step - loss: 881873088.0000\n",
      "Epoch 2/20\n",
      "244/244 [==============================] - 1s 2ms/step - loss: 881819584.0000\n",
      "Epoch 3/20\n",
      "244/244 [==============================] - 1s 2ms/step - loss: 881659520.0000\n",
      "Epoch 4/20\n",
      "244/244 [==============================] - 1s 2ms/step - loss: 881320320.0000\n",
      "Epoch 5/20\n",
      "244/244 [==============================] - 1s 2ms/step - loss: 880840320.0000\n",
      "Epoch 6/20\n",
      "244/244 [==============================] - 1s 2ms/step - loss: 880318016.0000\n",
      "Epoch 7/20\n",
      "244/244 [==============================] - 1s 2ms/step - loss: 879816192.0000\n",
      "Epoch 8/20\n",
      "244/244 [==============================] - 1s 2ms/step - loss: 879369600.0000\n",
      "Epoch 9/20\n",
      "244/244 [==============================] - 1s 2ms/step - loss: 879048512.0000\n",
      "Epoch 10/20\n",
      "244/244 [==============================] - 1s 2ms/step - loss: 878784256.0000\n",
      "Epoch 11/20\n",
      "244/244 [==============================] - 1s 2ms/step - loss: 878594368.0000\n",
      "Epoch 12/20\n",
      "244/244 [==============================] - 1s 2ms/step - loss: 878454656.0000\n",
      "Epoch 13/20\n",
      "244/244 [==============================] - 1s 2ms/step - loss: 878356032.0000\n",
      "Epoch 14/20\n",
      "244/244 [==============================] - 1s 2ms/step - loss: 878274176.0000\n",
      "Epoch 15/20\n",
      "244/244 [==============================] - 1s 2ms/step - loss: 878223680.0000\n",
      "Epoch 16/20\n",
      "244/244 [==============================] - 1s 2ms/step - loss: 878166528.0000\n",
      "Epoch 17/20\n",
      "244/244 [==============================] - 1s 2ms/step - loss: 878150400.0000\n",
      "Epoch 18/20\n",
      "244/244 [==============================] - 1s 2ms/step - loss: 878088640.0000\n",
      "Epoch 19/20\n",
      "244/244 [==============================] - 1s 2ms/step - loss: 878052608.0000\n",
      "Epoch 20/20\n",
      "244/244 [==============================] - 1s 2ms/step - loss: 878037440.0000\n",
      "Epoch 1/10\n",
      "122/122 [==============================] - 1s 2ms/step - loss: 452969024.0000\n",
      "Epoch 2/10\n",
      "122/122 [==============================] - 0s 2ms/step - loss: 452946912.0000\n",
      "Epoch 3/10\n"
     ]
    },
    {
     "name": "stdout",
     "output_type": "stream",
     "text": [
      "122/122 [==============================] - 0s 2ms/step - loss: 452844448.0000\n",
      "Epoch 4/10\n",
      "122/122 [==============================] - 0s 2ms/step - loss: 452645248.0000\n",
      "Epoch 5/10\n",
      "122/122 [==============================] - 0s 2ms/step - loss: 452364064.0000\n",
      "Epoch 6/10\n",
      "122/122 [==============================] - 0s 2ms/step - loss: 452041088.0000\n",
      "Epoch 7/10\n",
      "122/122 [==============================] - 0s 2ms/step - loss: 451691936.0000\n",
      "Epoch 8/10\n",
      "122/122 [==============================] - 0s 2ms/step - loss: 451376288.0000\n",
      "Epoch 9/10\n",
      "122/122 [==============================] - 0s 2ms/step - loss: 451127008.0000\n",
      "Epoch 10/10\n",
      "122/122 [==============================] - 0s 2ms/step - loss: 450916800.0000\n",
      "Epoch 1/10\n",
      "122/122 [==============================] - 1s 2ms/step - loss: 560522880.0000\n",
      "Epoch 2/10\n",
      "122/122 [==============================] - 0s 2ms/step - loss: 560489216.0000\n",
      "Epoch 3/10\n",
      "122/122 [==============================] - 0s 2ms/step - loss: 560384832.0000\n",
      "Epoch 4/10\n",
      "122/122 [==============================] - 0s 2ms/step - loss: 560155584.0000\n",
      "Epoch 5/10\n",
      "122/122 [==============================] - 0s 2ms/step - loss: 559831936.0000\n",
      "Epoch 6/10\n",
      "122/122 [==============================] - 0s 2ms/step - loss: 559482432.0000\n",
      "Epoch 7/10\n",
      "122/122 [==============================] - 0s 2ms/step - loss: 559167104.0000\n",
      "Epoch 8/10\n",
      "122/122 [==============================] - 0s 2ms/step - loss: 558912256.0000\n",
      "Epoch 9/10\n",
      "122/122 [==============================] - 0s 2ms/step - loss: 558699456.0000\n",
      "Epoch 10/10\n",
      "122/122 [==============================] - 0s 2ms/step - loss: 558554880.0000\n",
      "Epoch 1/10\n",
      "122/122 [==============================] - 1s 2ms/step - loss: 881874240.0000\n",
      "Epoch 2/10\n",
      "122/122 [==============================] - 0s 2ms/step - loss: 881850304.0000\n",
      "Epoch 3/10\n",
      "122/122 [==============================] - 0s 2ms/step - loss: 881771520.0000\n",
      "Epoch 4/10\n",
      "122/122 [==============================] - 0s 2ms/step - loss: 881581184.0000\n",
      "Epoch 5/10\n",
      "122/122 [==============================] - 0s 2ms/step - loss: 881285504.0000\n",
      "Epoch 6/10\n",
      "122/122 [==============================] - 0s 2ms/step - loss: 880897088.0000\n",
      "Epoch 7/10\n",
      "122/122 [==============================] - 0s 2ms/step - loss: 880434560.0000\n",
      "Epoch 8/10\n",
      "122/122 [==============================] - 0s 2ms/step - loss: 880006272.0000\n",
      "Epoch 9/10\n",
      "122/122 [==============================] - 0s 2ms/step - loss: 879608128.0000\n",
      "Epoch 10/10\n",
      "122/122 [==============================] - 0s 2ms/step - loss: 879264384.0000\n",
      "Epoch 1/10\n",
      "122/122 [==============================] - 1s 2ms/step - loss: 452969280.0000\n",
      "Epoch 2/10\n",
      "122/122 [==============================] - 0s 2ms/step - loss: 452944640.0000\n",
      "Epoch 3/10\n",
      "122/122 [==============================] - 0s 2ms/step - loss: 452833088.0000\n",
      "Epoch 4/10\n",
      "122/122 [==============================] - 0s 2ms/step - loss: 452641664.0000\n",
      "Epoch 5/10\n",
      "122/122 [==============================] - 0s 2ms/step - loss: 452347616.0000\n",
      "Epoch 6/10\n",
      "122/122 [==============================] - 0s 2ms/step - loss: 451987328.0000\n",
      "Epoch 7/10\n",
      "122/122 [==============================] - 0s 2ms/step - loss: 451624448.0000\n",
      "Epoch 8/10\n",
      "122/122 [==============================] - 0s 2ms/step - loss: 451276800.0000\n",
      "Epoch 9/10\n",
      "122/122 [==============================] - 0s 2ms/step - loss: 451011264.0000\n",
      "Epoch 10/10\n",
      "122/122 [==============================] - 0s 2ms/step - loss: 450816000.0000\n",
      "Epoch 1/10\n",
      "122/122 [==============================] - 1s 2ms/step - loss: 560523584.0000\n",
      "Epoch 2/10\n",
      "122/122 [==============================] - 0s 2ms/step - loss: 560493824.0000\n",
      "Epoch 3/10\n",
      "122/122 [==============================] - 0s 2ms/step - loss: 560408768.0000\n",
      "Epoch 4/10\n",
      "122/122 [==============================] - 0s 2ms/step - loss: 560227968.0000\n",
      "Epoch 5/10\n",
      "122/122 [==============================] - 0s 2ms/step - loss: 559964480.0000\n",
      "Epoch 6/10\n",
      "122/122 [==============================] - 0s 2ms/step - loss: 559631424.0000\n",
      "Epoch 7/10\n",
      "122/122 [==============================] - 0s 2ms/step - loss: 559314496.0000\n",
      "Epoch 8/10\n",
      "122/122 [==============================] - 0s 2ms/step - loss: 559025472.0000\n",
      "Epoch 9/10\n",
      "122/122 [==============================] - 0s 2ms/step - loss: 558815232.0000\n",
      "Epoch 10/10\n",
      "122/122 [==============================] - 0s 2ms/step - loss: 558646272.0000\n",
      "Epoch 1/10\n",
      "122/122 [==============================] - 1s 2ms/step - loss: 881873536.0000\n",
      "Epoch 2/10\n",
      "122/122 [==============================] - 0s 2ms/step - loss: 881852992.0000\n",
      "Epoch 3/10\n",
      "122/122 [==============================] - 0s 2ms/step - loss: 881785600.0000\n",
      "Epoch 4/10\n",
      "122/122 [==============================] - 0s 2ms/step - loss: 881612928.0000\n",
      "Epoch 5/10\n",
      "122/122 [==============================] - 0s 2ms/step - loss: 881346560.0000\n",
      "Epoch 6/10\n",
      "122/122 [==============================] - 0s 3ms/step - loss: 880988992.0000\n",
      "Epoch 7/10\n",
      "122/122 [==============================] - 0s 2ms/step - loss: 880578176.0000\n",
      "Epoch 8/10\n",
      "122/122 [==============================] - 0s 2ms/step - loss: 880119360.0000\n",
      "Epoch 9/10\n",
      "122/122 [==============================] - 0s 2ms/step - loss: 879693632.0000\n",
      "Epoch 10/10\n",
      "122/122 [==============================] - 0s 2ms/step - loss: 879320832.0000\n",
      "Epoch 1/20\n",
      "122/122 [==============================] - 1s 2ms/step - loss: 452968160.0000\n",
      "Epoch 2/20\n",
      "122/122 [==============================] - 0s 2ms/step - loss: 452935840.0000\n",
      "Epoch 3/20\n",
      "122/122 [==============================] - 0s 2ms/step - loss: 452854848.0000\n",
      "Epoch 4/20\n",
      "122/122 [==============================] - 0s 2ms/step - loss: 452693184.0000\n",
      "Epoch 5/20\n",
      "122/122 [==============================] - 0s 2ms/step - loss: 452451104.0000\n",
      "Epoch 6/20\n",
      "122/122 [==============================] - 0s 2ms/step - loss: 452180960.0000\n",
      "Epoch 7/20\n",
      "122/122 [==============================] - 0s 2ms/step - loss: 451879456.0000\n",
      "Epoch 8/20\n",
      "122/122 [==============================] - 0s 2ms/step - loss: 451575904.0000\n",
      "Epoch 9/20\n",
      "122/122 [==============================] - 0s 2ms/step - loss: 451290976.0000\n",
      "Epoch 10/20\n",
      "122/122 [==============================] - 0s 2ms/step - loss: 451053408.0000\n",
      "Epoch 11/20\n",
      "122/122 [==============================] - 0s 2ms/step - loss: 450870368.0000\n",
      "Epoch 12/20\n",
      "122/122 [==============================] - 0s 2ms/step - loss: 450732064.0000\n",
      "Epoch 13/20\n",
      "122/122 [==============================] - 0s 2ms/step - loss: 450631840.0000\n",
      "Epoch 14/20\n",
      "122/122 [==============================] - 0s 2ms/step - loss: 450555840.0000\n",
      "Epoch 15/20\n",
      "122/122 [==============================] - 0s 2ms/step - loss: 450495840.0000\n",
      "Epoch 16/20\n",
      "122/122 [==============================] - 0s 2ms/step - loss: 450454144.0000\n",
      "Epoch 17/20\n",
      "122/122 [==============================] - 0s 2ms/step - loss: 450416064.0000\n",
      "Epoch 18/20\n",
      "122/122 [==============================] - 0s 2ms/step - loss: 450389248.0000\n",
      "Epoch 19/20\n",
      "122/122 [==============================] - 0s 2ms/step - loss: 450354624.0000\n",
      "Epoch 20/20\n",
      "122/122 [==============================] - 0s 2ms/step - loss: 450333056.0000\n",
      "Epoch 1/20\n",
      "122/122 [==============================] - 1s 2ms/step - loss: 560525120.0000\n",
      "Epoch 2/20\n",
      "122/122 [==============================] - 0s 2ms/step - loss: 560508800.0000\n",
      "Epoch 3/20\n",
      "122/122 [==============================] - 0s 2ms/step - loss: 560459456.0000\n",
      "Epoch 4/20\n",
      "122/122 [==============================] - 0s 2ms/step - loss: 560343488.0000\n",
      "Epoch 5/20\n",
      "122/122 [==============================] - 0s 3ms/step - loss: 560138688.0000\n",
      "Epoch 6/20\n",
      "122/122 [==============================] - 0s 3ms/step - loss: 559873408.0000\n",
      "Epoch 7/20\n",
      "122/122 [==============================] - 0s 2ms/step - loss: 559581120.0000\n",
      "Epoch 8/20\n",
      "122/122 [==============================] - 0s 2ms/step - loss: 559301824.0000\n",
      "Epoch 9/20\n",
      "122/122 [==============================] - 0s 3ms/step - loss: 559057728.0000\n",
      "Epoch 10/20\n",
      "122/122 [==============================] - 0s 2ms/step - loss: 558848640.0000\n",
      "Epoch 11/20\n",
      "122/122 [==============================] - 0s 2ms/step - loss: 558690496.0000\n",
      "Epoch 12/20\n",
      "122/122 [==============================] - 0s 2ms/step - loss: 558570624.0000\n",
      "Epoch 13/20\n",
      "122/122 [==============================] - 0s 2ms/step - loss: 558478016.0000\n",
      "Epoch 14/20\n"
     ]
    },
    {
     "name": "stdout",
     "output_type": "stream",
     "text": [
      "122/122 [==============================] - 0s 3ms/step - loss: 558423232.0000\n",
      "Epoch 15/20\n",
      "122/122 [==============================] - 0s 3ms/step - loss: 558365632.0000\n",
      "Epoch 16/20\n",
      "122/122 [==============================] - 0s 2ms/step - loss: 558320896.0000\n",
      "Epoch 17/20\n",
      "122/122 [==============================] - 0s 2ms/step - loss: 558294208.0000\n",
      "Epoch 18/20\n",
      "122/122 [==============================] - 0s 2ms/step - loss: 558267904.0000\n",
      "Epoch 19/20\n",
      "122/122 [==============================] - 0s 2ms/step - loss: 558237824.0000\n",
      "Epoch 20/20\n",
      "122/122 [==============================] - 0s 2ms/step - loss: 558223168.0000\n",
      "Epoch 1/20\n",
      "122/122 [==============================] - 1s 2ms/step - loss: 881876672.0000\n",
      "Epoch 2/20\n",
      "122/122 [==============================] - 0s 2ms/step - loss: 881854656.0000\n",
      "Epoch 3/20\n",
      "122/122 [==============================] - 0s 2ms/step - loss: 881771008.0000\n",
      "Epoch 4/20\n",
      "122/122 [==============================] - 0s 2ms/step - loss: 881594240.0000\n",
      "Epoch 5/20\n",
      "122/122 [==============================] - 0s 2ms/step - loss: 881327488.0000\n",
      "Epoch 6/20\n",
      "122/122 [==============================] - 0s 2ms/step - loss: 880994560.0000\n",
      "Epoch 7/20\n",
      "122/122 [==============================] - 0s 2ms/step - loss: 880586304.0000\n",
      "Epoch 8/20\n",
      "122/122 [==============================] - 0s 2ms/step - loss: 880128064.0000\n",
      "Epoch 9/20\n",
      "122/122 [==============================] - 0s 2ms/step - loss: 879709696.0000\n",
      "Epoch 10/20\n",
      "122/122 [==============================] - 0s 2ms/step - loss: 879355072.0000\n",
      "Epoch 11/20\n",
      "122/122 [==============================] - 0s 2ms/step - loss: 879074048.0000\n",
      "Epoch 12/20\n",
      "122/122 [==============================] - 0s 2ms/step - loss: 878852736.0000\n",
      "Epoch 13/20\n",
      "122/122 [==============================] - 0s 2ms/step - loss: 878662144.0000\n",
      "Epoch 14/20\n",
      "122/122 [==============================] - 0s 2ms/step - loss: 878520576.0000\n",
      "Epoch 15/20\n",
      "122/122 [==============================] - 0s 2ms/step - loss: 878415168.0000\n",
      "Epoch 16/20\n",
      "122/122 [==============================] - 0s 2ms/step - loss: 878343680.0000\n",
      "Epoch 17/20\n",
      "122/122 [==============================] - 0s 2ms/step - loss: 878247040.0000\n",
      "Epoch 18/20\n",
      "122/122 [==============================] - 0s 2ms/step - loss: 878196608.0000\n",
      "Epoch 19/20\n",
      "122/122 [==============================] - 0s 2ms/step - loss: 878136192.0000\n",
      "Epoch 20/20\n",
      "122/122 [==============================] - 0s 2ms/step - loss: 878091840.0000\n",
      "Epoch 1/20\n",
      "122/122 [==============================] - 1s 2ms/step - loss: 452970016.0000\n",
      "Epoch 2/20\n",
      "122/122 [==============================] - 0s 2ms/step - loss: 452944064.0000\n",
      "Epoch 3/20\n",
      "122/122 [==============================] - 0s 2ms/step - loss: 452841888.0000\n",
      "Epoch 4/20\n",
      "122/122 [==============================] - 0s 2ms/step - loss: 452616992.0000\n",
      "Epoch 5/20\n",
      "122/122 [==============================] - 0s 2ms/step - loss: 452297440.0000\n",
      "Epoch 6/20\n",
      "122/122 [==============================] - 0s 3ms/step - loss: 451958624.0000\n",
      "Epoch 7/20\n",
      "122/122 [==============================] - 0s 2ms/step - loss: 451600384.0000\n",
      "Epoch 8/20\n",
      "122/122 [==============================] - 0s 2ms/step - loss: 451268928.0000\n",
      "Epoch 9/20\n",
      "122/122 [==============================] - 0s 2ms/step - loss: 451011456.0000\n",
      "Epoch 10/20\n",
      "122/122 [==============================] - 0s 2ms/step - loss: 450831008.0000\n",
      "Epoch 11/20\n",
      "122/122 [==============================] - 0s 2ms/step - loss: 450687264.0000\n",
      "Epoch 12/20\n",
      "122/122 [==============================] - 0s 2ms/step - loss: 450592128.0000\n",
      "Epoch 13/20\n",
      "122/122 [==============================] - 0s 2ms/step - loss: 450534912.0000\n",
      "Epoch 14/20\n",
      "122/122 [==============================] - 0s 2ms/step - loss: 450470944.0000\n",
      "Epoch 15/20\n",
      "122/122 [==============================] - 0s 2ms/step - loss: 450437376.0000\n",
      "Epoch 16/20\n",
      "122/122 [==============================] - 0s 2ms/step - loss: 450403872.0000\n",
      "Epoch 17/20\n",
      "122/122 [==============================] - 0s 2ms/step - loss: 450397952.0000\n",
      "Epoch 18/20\n",
      "122/122 [==============================] - 0s 2ms/step - loss: 450360992.0000\n",
      "Epoch 19/20\n",
      "122/122 [==============================] - 0s 2ms/step - loss: 450332480.0000\n",
      "Epoch 20/20\n",
      "122/122 [==============================] - 0s 2ms/step - loss: 450318752.0000\n",
      "Epoch 1/20\n",
      "122/122 [==============================] - 1s 2ms/step - loss: 560524288.0000\n",
      "Epoch 2/20\n",
      "122/122 [==============================] - 0s 2ms/step - loss: 560503680.0000\n",
      "Epoch 3/20\n",
      "122/122 [==============================] - 0s 2ms/step - loss: 560435840.0000\n",
      "Epoch 4/20\n",
      "122/122 [==============================] - 0s 2ms/step - loss: 560309952.0000\n",
      "Epoch 5/20\n",
      "122/122 [==============================] - 0s 2ms/step - loss: 560125824.0000\n",
      "Epoch 6/20\n",
      "122/122 [==============================] - 0s 3ms/step - loss: 559889088.0000\n",
      "Epoch 7/20\n",
      "122/122 [==============================] - 0s 3ms/step - loss: 559632000.0000\n",
      "Epoch 8/20\n",
      "122/122 [==============================] - 0s 3ms/step - loss: 559365056.0000\n",
      "Epoch 9/20\n",
      "122/122 [==============================] - 0s 3ms/step - loss: 559123520.0000\n",
      "Epoch 10/20\n",
      "122/122 [==============================] - 0s 3ms/step - loss: 558913536.0000\n",
      "Epoch 11/20\n",
      "122/122 [==============================] - 0s 3ms/step - loss: 558744256.0000\n",
      "Epoch 12/20\n",
      "122/122 [==============================] - 0s 3ms/step - loss: 558612672.0000\n",
      "Epoch 13/20\n",
      "122/122 [==============================] - 0s 3ms/step - loss: 558509632.0000\n",
      "Epoch 14/20\n",
      "122/122 [==============================] - 0s 3ms/step - loss: 558429312.0000\n",
      "Epoch 15/20\n",
      "122/122 [==============================] - 0s 3ms/step - loss: 558384512.0000\n",
      "Epoch 16/20\n",
      "122/122 [==============================] - 0s 3ms/step - loss: 558333760.0000\n",
      "Epoch 17/20\n",
      "122/122 [==============================] - 0s 3ms/step - loss: 558296128.0000\n",
      "Epoch 18/20\n",
      "122/122 [==============================] - 0s 2ms/step - loss: 558267840.0000\n",
      "Epoch 19/20\n",
      "122/122 [==============================] - 0s 2ms/step - loss: 558237504.0000\n",
      "Epoch 20/20\n",
      "122/122 [==============================] - 0s 3ms/step - loss: 558216832.0000\n",
      "Epoch 1/20\n",
      "122/122 [==============================] - 1s 2ms/step - loss: 881876736.0000\n",
      "Epoch 2/20\n",
      "122/122 [==============================] - 0s 2ms/step - loss: 881862784.0000\n",
      "Epoch 3/20\n",
      "122/122 [==============================] - 0s 3ms/step - loss: 881808640.0000\n",
      "Epoch 4/20\n",
      "122/122 [==============================] - 0s 3ms/step - loss: 881682624.0000\n",
      "Epoch 5/20\n",
      "122/122 [==============================] - 0s 2ms/step - loss: 881491392.0000\n",
      "Epoch 6/20\n",
      "122/122 [==============================] - 0s 3ms/step - loss: 881237312.0000\n",
      "Epoch 7/20\n",
      "122/122 [==============================] - 0s 2ms/step - loss: 880914624.0000\n",
      "Epoch 8/20\n",
      "122/122 [==============================] - 0s 2ms/step - loss: 880525760.0000\n",
      "Epoch 9/20\n",
      "122/122 [==============================] - 0s 2ms/step - loss: 880138368.0000\n",
      "Epoch 10/20\n",
      "122/122 [==============================] - 0s 2ms/step - loss: 879793152.0000\n",
      "Epoch 11/20\n",
      "122/122 [==============================] - 0s 2ms/step - loss: 879460864.0000\n",
      "Epoch 12/20\n",
      "122/122 [==============================] - 0s 2ms/step - loss: 879182272.0000\n",
      "Epoch 13/20\n",
      "122/122 [==============================] - 0s 3ms/step - loss: 878942720.0000\n",
      "Epoch 14/20\n",
      "122/122 [==============================] - 0s 3ms/step - loss: 878775040.0000\n",
      "Epoch 15/20\n",
      "122/122 [==============================] - 0s 3ms/step - loss: 878608704.0000\n",
      "Epoch 16/20\n",
      "122/122 [==============================] - 0s 2ms/step - loss: 878495168.0000\n",
      "Epoch 17/20\n",
      "122/122 [==============================] - 0s 2ms/step - loss: 878393280.0000\n",
      "Epoch 18/20\n",
      "122/122 [==============================] - 0s 2ms/step - loss: 878314880.0000\n",
      "Epoch 19/20\n",
      "122/122 [==============================] - 0s 2ms/step - loss: 878228864.0000\n",
      "Epoch 20/20\n",
      "122/122 [==============================] - 0s 3ms/step - loss: 878173376.0000\n",
      "Epoch 1/20\n",
      "366/366 [==============================] - 1s 2ms/step - loss: 631790272.0000\n",
      "Epoch 2/20\n",
      "366/366 [==============================] - 1s 3ms/step - loss: 631534080.0000\n",
      "Epoch 3/20\n",
      "366/366 [==============================] - 1s 2ms/step - loss: 630921664.0000\n",
      "Epoch 4/20\n",
      "366/366 [==============================] - 1s 2ms/step - loss: 630233856.0000\n",
      "Epoch 5/20\n"
     ]
    },
    {
     "name": "stdout",
     "output_type": "stream",
     "text": [
      "366/366 [==============================] - 1s 2ms/step - loss: 629698304.0000\n",
      "Epoch 6/20\n",
      "366/366 [==============================] - 1s 2ms/step - loss: 629353536.0000\n",
      "Epoch 7/20\n",
      "366/366 [==============================] - 1s 2ms/step - loss: 629167296.0000\n",
      "Epoch 8/20\n",
      "366/366 [==============================] - 1s 2ms/step - loss: 629065728.0000\n",
      "Epoch 9/20\n",
      "366/366 [==============================] - 1s 2ms/step - loss: 629001344.0000\n",
      "Epoch 10/20\n",
      "366/366 [==============================] - 1s 2ms/step - loss: 628936704.0000\n",
      "Epoch 11/20\n",
      "366/366 [==============================] - 1s 2ms/step - loss: 628894080.0000\n",
      "Epoch 12/20\n",
      "366/366 [==============================] - 1s 2ms/step - loss: 628850304.0000\n",
      "Epoch 13/20\n",
      "366/366 [==============================] - 1s 2ms/step - loss: 628814976.0000\n",
      "Epoch 14/20\n",
      "366/366 [==============================] - 1s 2ms/step - loss: 628779008.0000\n",
      "Epoch 15/20\n",
      "366/366 [==============================] - 1s 2ms/step - loss: 628741056.0000\n",
      "Epoch 16/20\n",
      "366/366 [==============================] - 1s 2ms/step - loss: 628705472.0000\n",
      "Epoch 17/20\n",
      "366/366 [==============================] - 1s 2ms/step - loss: 628667008.0000\n",
      "Epoch 18/20\n",
      "366/366 [==============================] - 1s 2ms/step - loss: 628633152.0000\n",
      "Epoch 19/20\n",
      "366/366 [==============================] - 1s 2ms/step - loss: 628599296.0000\n",
      "Epoch 20/20\n",
      "366/366 [==============================] - 1s 2ms/step - loss: 628550528.0000\n",
      "Evaluation Metrics (Neural Network)\n",
      "Best Parameters: {'batch_size': 32, 'epochs': 20, 'optimizer': 'rmsprop'}\n",
      "Best MSE Score: 628832224.9391104\n",
      "MSE: 1369206874.2692146\n",
      "RMSE: 37002.795492627505\n",
      "MAE: 3766.187447633248\n",
      "R2: 0.0009635383840702616\n"
     ]
    }
   ],
   "source": [
    "# Cross Validation for ANN\n",
    "# Define the parameter grid for GridSearchCV\n",
    "def create_model(optimizer='adam'):\n",
    "    model = Sequential()\n",
    "    model.add(Dense(64, activation='relu', input_shape=(X_train.shape[1],)))\n",
    "    model.add(Dense(32, activation='relu'))\n",
    "    model.add(Dense(1))\n",
    "    model.compile(optimizer='adam', loss='mean_squared_error')\n",
    "    return model\n",
    "\n",
    "# Create KerasRegressor \n",
    "neural_network = KerasRegressor(build_fn=create_model)\n",
    "\n",
    "param_grid = {\n",
    "    'batch_size': [32, 64],\n",
    "    'epochs': [10, 20],\n",
    "    'optimizer': ['adam', 'rmsprop']\n",
    "}\n",
    "\n",
    "# Perform grid search cross-validation\n",
    "ann_grid_search = GridSearchCV(estimator=neural_network, param_grid=param_grid, cv=3, scoring='neg_mean_squared_error')\n",
    "ann_grid_search.fit(X_train, y_train)\n",
    "\n",
    "ann_best_params = ann_grid_search.best_params_\n",
    "ann_best_score = -ann_grid_search.best_score_\n",
    "\n",
    "# Make predictions on the test set using the best model\n",
    "ann_best_model = ann_grid_search.best_estimator_\n",
    "ann_y_pred = ann_best_model.predict(X_test)\n",
    "\n",
    "\n",
    "# Calculate evaluation metrics\n",
    "ann_mse = mean_squared_error(y_test, ann_y_pred)\n",
    "ann_rmse = np.sqrt(ann_mse)\n",
    "ann_mae = mean_absolute_error(y_test, ann_y_pred)\n",
    "ann_r2 = r2_score(y_test, ann_y_pred)\n",
    "\n",
    "print(\"Evaluation Metrics (Neural Network)\")\n",
    "print(\"Best Parameters:\", ann_best_params)\n",
    "print(\"Best MSE Score:\", ann_best_score)\n",
    "print(\"MSE:\", ann_mse)\n",
    "print(\"RMSE:\", ann_rmse)\n",
    "print(\"MAE:\", ann_mae)\n",
    "print(\"R2:\", ann_r2)"
   ]
  },
  {
   "cell_type": "code",
   "execution_count": 59,
   "id": "00ffc8b9",
   "metadata": {},
   "outputs": [],
   "source": [
    "dict5={'Model':'Neural Network',\n",
    "       'MAE':round((ann_mae),2),\n",
    "       'MSE':round((ann_best_score),2),\n",
    "       'RMSE':round((ann_rmse),2),\n",
    "       'R2_score':round((ann_r2),2)\n",
    "       }\n",
    "test_data=test_data.append(dict5,ignore_index=True)"
   ]
  },
  {
   "cell_type": "markdown",
   "id": "8cd70aac",
   "metadata": {},
   "source": [
    "## Overall Evaluation Metrics"
   ]
  },
  {
   "cell_type": "code",
   "execution_count": 60,
   "id": "226bef6e",
   "metadata": {},
   "outputs": [
    {
     "data": {
      "text/html": [
       "<div>\n",
       "<style scoped>\n",
       "    .dataframe tbody tr th:only-of-type {\n",
       "        vertical-align: middle;\n",
       "    }\n",
       "\n",
       "    .dataframe tbody tr th {\n",
       "        vertical-align: top;\n",
       "    }\n",
       "\n",
       "    .dataframe thead th {\n",
       "        text-align: right;\n",
       "    }\n",
       "</style>\n",
       "<table border=\"1\" class=\"dataframe\">\n",
       "  <thead>\n",
       "    <tr style=\"text-align: right;\">\n",
       "      <th></th>\n",
       "      <th>Model</th>\n",
       "      <th>MAE</th>\n",
       "      <th>MSE</th>\n",
       "      <th>RMSE</th>\n",
       "      <th>R2_score</th>\n",
       "    </tr>\n",
       "  </thead>\n",
       "  <tbody>\n",
       "    <tr>\n",
       "      <th>0</th>\n",
       "      <td>Linear regression</td>\n",
       "      <td>4008.58</td>\n",
       "      <td>1.367178e+09</td>\n",
       "      <td>36975.37</td>\n",
       "      <td>0.00</td>\n",
       "    </tr>\n",
       "    <tr>\n",
       "      <th>1</th>\n",
       "      <td>SVM regression</td>\n",
       "      <td>2322.09</td>\n",
       "      <td>1.375781e+09</td>\n",
       "      <td>37091.52</td>\n",
       "      <td>-0.00</td>\n",
       "    </tr>\n",
       "    <tr>\n",
       "      <th>2</th>\n",
       "      <td>DT regression</td>\n",
       "      <td>3288.13</td>\n",
       "      <td>1.429658e+09</td>\n",
       "      <td>37810.82</td>\n",
       "      <td>-0.04</td>\n",
       "    </tr>\n",
       "    <tr>\n",
       "      <th>3</th>\n",
       "      <td>RF regression</td>\n",
       "      <td>3819.18</td>\n",
       "      <td>1.467373e+09</td>\n",
       "      <td>38306.30</td>\n",
       "      <td>-0.07</td>\n",
       "    </tr>\n",
       "    <tr>\n",
       "      <th>4</th>\n",
       "      <td>Neural Network</td>\n",
       "      <td>3766.19</td>\n",
       "      <td>6.288322e+08</td>\n",
       "      <td>37002.80</td>\n",
       "      <td>0.00</td>\n",
       "    </tr>\n",
       "  </tbody>\n",
       "</table>\n",
       "</div>"
      ],
      "text/plain": [
       "               Model      MAE           MSE      RMSE  R2_score\n",
       "0  Linear regression  4008.58  1.367178e+09  36975.37      0.00\n",
       "1     SVM regression  2322.09  1.375781e+09  37091.52     -0.00\n",
       "2      DT regression  3288.13  1.429658e+09  37810.82     -0.04\n",
       "3      RF regression  3819.18  1.467373e+09  38306.30     -0.07\n",
       "4     Neural Network  3766.19  6.288322e+08  37002.80      0.00"
      ]
     },
     "execution_count": 60,
     "metadata": {},
     "output_type": "execute_result"
    }
   ],
   "source": [
    "test_data"
   ]
  },
  {
   "cell_type": "markdown",
   "id": "6d8dd807",
   "metadata": {},
   "source": [
    "## Save your model"
   ]
  },
  {
   "cell_type": "raw",
   "id": "4a3e4258",
   "metadata": {},
   "source": [
    "# In spite of all Regression models, Random forest are performing better than other. So now save the model"
   ]
  },
  {
   "cell_type": "code",
   "execution_count": 61,
   "id": "c6a33522",
   "metadata": {},
   "outputs": [
    {
     "name": "stdout",
     "output_type": "stream",
     "text": [
      "Model saved successfully.\n"
     ]
    }
   ],
   "source": [
    "# Save the model to a file using pickle\n",
    "import pickle\n",
    "with open('Randomforest_youtubeadview.pkl', 'wb') as file:\n",
    "    pickle.dump(RF_model, file)\n",
    "    print(\"Model saved successfully.\")"
   ]
  },
  {
   "cell_type": "raw",
   "id": "6a2f65ff",
   "metadata": {},
   "source": [
    "# Load the saved model from file\n",
    "with open('Randomforest_youtubeadview.pkl', 'rb') as file:\n",
    "    loaded_model = pickle.load(file)\n",
    "    print(\"Model loaded successfully.\")"
   ]
  },
  {
   "cell_type": "code",
   "execution_count": 62,
   "id": "80f81598",
   "metadata": {},
   "outputs": [],
   "source": [
    "# Saving Keras Artificial Neural Network model\n",
    "ann.save(\"ann_youtubeadview.h5\")"
   ]
  },
  {
   "cell_type": "raw",
   "id": "ba24b6fc",
   "metadata": {},
   "source": [
    "# Load the saved ann model from file\n",
    "import tensorflow as tf\n",
    "loaded_model = tf.keras.models.load_model('ann_youtubeadview.h5')"
   ]
  },
  {
   "cell_type": "code",
   "execution_count": null,
   "id": "fda38e92",
   "metadata": {},
   "outputs": [],
   "source": []
  },
  {
   "cell_type": "markdown",
   "id": "7dba19b4",
   "metadata": {},
   "source": [
    "# Conclusion"
   ]
  },
  {
   "cell_type": "markdown",
   "id": "cf00e4f2",
   "metadata": {},
   "source": [
    "#### 1) In this project, we aimed To build a machine learning regression to predict youtube adview count based on other youtube metrics. We performed extensive data analysis and explored the relationships between metrics such as views, likes, dislikes, and comments. Through visualization, we gained valuable insights into the data and identified potential patterns.\n",
    "\n",
    "#### 2) We experimented with multiple regression models, including linear regression, decision tree, support vector machine, and random forest. After evaluating their performance using metrics such as mean squared error, mean absolute error, and R-squared (R2) score.\n",
    "\n",
    "#### 3) we also build neural network model and there found that the neural network model trained using Keras outperformed the other models. Its ability to capture complex relationships within the data allowed for more accurate predictions.\n",
    "\n",
    "#### 4) To assess the generalization performance of our models, we utilized cross-validation techniques. This provided an estimation of how well the models would perform on unseen data, enhancing their reliability.\n",
    "\n",
    "#### 5) In conclusion, our project successfully developed a predictive model for YouTube adview prediction. By considering various metrics and utilizing advanced techniques such as neural networks and cross-validation, we were able to create a robust and accurate model that can provide valuable insights for YouTube advertisers in predicting the number of adviews for their content.\n",
    "\n",
    "#### 6) In spite of all Regression models, Linear Regression are performing better than other after cross validation with mse value."
   ]
  },
  {
   "cell_type": "code",
   "execution_count": null,
   "id": "521749aa",
   "metadata": {},
   "outputs": [],
   "source": []
  },
  {
   "cell_type": "code",
   "execution_count": null,
   "id": "2295df6a",
   "metadata": {},
   "outputs": [],
   "source": []
  },
  {
   "cell_type": "code",
   "execution_count": null,
   "id": "81d8a68f",
   "metadata": {},
   "outputs": [],
   "source": []
  }
 ],
 "metadata": {
  "kernelspec": {
   "display_name": "Python 3 (ipykernel)",
   "language": "python",
   "name": "python3"
  },
  "language_info": {
   "codemirror_mode": {
    "name": "ipython",
    "version": 3
   },
   "file_extension": ".py",
   "mimetype": "text/x-python",
   "name": "python",
   "nbconvert_exporter": "python",
   "pygments_lexer": "ipython3",
   "version": "3.9.7"
  }
 },
 "nbformat": 4,
 "nbformat_minor": 5
}
